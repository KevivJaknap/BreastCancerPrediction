{
  "cells": [
    {
      "cell_type": "code",
      "execution_count": null,
      "metadata": {
        "id": "HLuLQ38IBk6m"
      },
      "outputs": [],
      "source": [
        "import os\n",
        "from fastai.vision.all import *\n",
        "from pathlib import Path\n",
        "from PIL import Image\n",
        "import matplotlib.pyplot as plt\n",
        "from sklearn.metrics import confusion_matrix\n",
        "import matplotlib.pyplot as plt\n",
        "import seaborn as sns\n",
        "from sklearn.metrics import accuracy_score, f1_score, precision_score, recall_score\n",
        "from fastai.callback.hook import *\n",
        "import torch\n",
        "import torch.nn as nn\n",
        "import torch.optim as optim\n",
        "import torch.nn.functional as F"
      ]
    },
    {
      "cell_type": "code",
      "source": [
        "!git clone https://github.com/KevivJaknap/BreastCancerPrediction.git"
      ],
      "metadata": {
        "id": "6PDAi1zJPwg2",
        "outputId": "57f73ccd-0ad6-4668-939d-879f26706873",
        "colab": {
          "base_uri": "https://localhost:8080/"
        }
      },
      "execution_count": null,
      "outputs": [
        {
          "output_type": "stream",
          "name": "stdout",
          "text": [
            "Cloning into 'BreastCancerPrediction'...\n",
            "remote: Enumerating objects: 1595, done.\u001b[K\n",
            "remote: Counting objects: 100% (12/12), done.\u001b[K\n",
            "remote: Compressing objects: 100% (11/11), done.\u001b[K\n",
            "remote: Total 1595 (delta 5), reused 5 (delta 1), pack-reused 1583\u001b[K\n",
            "Receiving objects: 100% (1595/1595), 44.22 MiB | 21.07 MiB/s, done.\n",
            "Resolving deltas: 100% (58/58), done.\n",
            "Updating files: 100% (1729/1729), done.\n"
          ]
        }
      ]
    },
    {
      "cell_type": "code",
      "execution_count": null,
      "metadata": {
        "id": "ivDlJhXSBk6m"
      },
      "outputs": [],
      "source": [
        "def get_labels(file_path):\n",
        "    if file_path[0] == 'N':\n",
        "        return 'healthy'\n",
        "    else:\n",
        "        return 'unhealthy'\n",
        "test_path = '/content/BreastCancerPrediction/dataset_test/'\n",
        "train_path = '/content/BreastCancerPrediction/dataset_train/'"
      ]
    },
    {
      "cell_type": "code",
      "execution_count": null,
      "metadata": {
        "id": "EF4GjRjPBk6n"
      },
      "outputs": [],
      "source": [
        "def split_files(beta, base_path=train_path):\n",
        "    healthy_files = []\n",
        "    unhealthy_files = []\n",
        "    for root, dirs, files in os.walk(base_path):\n",
        "        for file in files:\n",
        "            if file.startswith('N'):\n",
        "                healthy_files.append((base_path+file, 'healthy'))\n",
        "            else:\n",
        "                unhealthy_files.append((base_path+file, 'unhealthy'))\n",
        "    len_healthy = len(healthy_files)\n",
        "    len_unhealthy = len(unhealthy_files)\n",
        "\n",
        "\n",
        "    #split into two sets\n",
        "    first = healthy_files[:] + random.sample(unhealthy_files, int(len_unhealthy*beta))\n",
        "    second = random.sample(healthy_files, int(len_healthy*beta)) + unhealthy_files[:]\n",
        "    random.shuffle(first)\n",
        "    random.shuffle(second)\n",
        "\n",
        "    print(f\"First contains {len_healthy} healthy and {len(first) - len_healthy} unhealthy\")\n",
        "    print(f\"Second contains {len(second)-len_unhealthy} healthy and {len_unhealthy} unhealthy\")\n",
        "    return first, second"
      ]
    },
    {
      "cell_type": "code",
      "execution_count": null,
      "metadata": {
        "id": "o3dWeSmdBk6n"
      },
      "outputs": [],
      "source": [
        "class CNN:\n",
        "    def __init__(self, id, files):\n",
        "        self.id = id\n",
        "        self.files = files\n",
        "        self.dblock = DataBlock(blocks=(ImageBlock, CategoryBlock),\n",
        "                   get_x=ColReader(0),\n",
        "                   get_y=ColReader(1),\n",
        "                   splitter=RandomSplitter(),\n",
        "                   item_tfms=Resize(224),\n",
        "                   batch_tfms=aug_transforms(size=224, min_scale=0.75))\n",
        "        self.dls = self.dblock.dataloaders(self.files, bs=64)\n",
        "        self.learn = vision_learner(self.dls, resnet34, metrics=accuracy)\n",
        "\n",
        "    def train(self, epochs):\n",
        "        self.learn.fine_tune(epochs)\n",
        "\n",
        "    def show_batch(self):\n",
        "        self.dls.show_batch()\n",
        "\n",
        "    def save(self):\n",
        "        self.learn.export(f'./models/model_{self.id}.pkl')\n",
        "\n",
        "    def load(self):\n",
        "        self.learn = load_learner(f'./models/model_{self.id}.pkl')\n",
        "\n",
        "    def predict(self, file_path):\n",
        "        img = Image.open(file_path)\n",
        "        return self.learn.predict(img)\n",
        "\n",
        "    def plot(self):\n",
        "        self.learn.recorder.plot_loss()\n",
        "\n",
        "    def show_results(self):\n",
        "        self.learn.show_results()"
      ]
    },
    {
      "cell_type": "code",
      "source": [
        "files1, files2 = split_files(0.75)\n",
        "files0 = split_files(1)[0]\n",
        "model0 = CNN(id = 0, files = files0)\n",
        "model1 = CNN(id = 1, files = files1)\n",
        "model2 = CNN(id = 2, files = files2)\n",
        "model0.train(4)\n",
        "model1.train(4)\n",
        "model2.train(4)"
      ],
      "metadata": {
        "id": "E5Jbk8raQvaB",
        "outputId": "7d2d7880-c597-4c25-ffea-67821cd07a99",
        "colab": {
          "base_uri": "https://localhost:8080/",
          "height": 750
        }
      },
      "execution_count": null,
      "outputs": [
        {
          "output_type": "stream",
          "name": "stdout",
          "text": [
            "First contains 642 healthy and 480 unhealthy\n",
            "Second contains 481 healthy and 640 unhealthy\n",
            "First contains 642 healthy and 640 unhealthy\n",
            "Second contains 642 healthy and 640 unhealthy\n"
          ]
        },
        {
          "output_type": "display_data",
          "data": {
            "text/plain": [
              "<IPython.core.display.HTML object>"
            ],
            "text/html": [
              "\n",
              "<style>\n",
              "    /* Turns off some styling */\n",
              "    progress {\n",
              "        /* gets rid of default border in Firefox and Opera. */\n",
              "        border: none;\n",
              "        /* Needs to be in here for Safari polyfill so background images work as expected. */\n",
              "        background-size: auto;\n",
              "    }\n",
              "    progress:not([value]), progress:not([value])::-webkit-progress-bar {\n",
              "        background: repeating-linear-gradient(45deg, #7e7e7e, #7e7e7e 10px, #5c5c5c 10px, #5c5c5c 20px);\n",
              "    }\n",
              "    .progress-bar-interrupted, .progress-bar-interrupted::-webkit-progress-bar {\n",
              "        background: #F44336;\n",
              "    }\n",
              "</style>\n"
            ]
          },
          "metadata": {}
        },
        {
          "output_type": "display_data",
          "data": {
            "text/plain": [
              "<IPython.core.display.HTML object>"
            ],
            "text/html": [
              "<table border=\"1\" class=\"dataframe\">\n",
              "  <thead>\n",
              "    <tr style=\"text-align: left;\">\n",
              "      <th>epoch</th>\n",
              "      <th>train_loss</th>\n",
              "      <th>valid_loss</th>\n",
              "      <th>accuracy</th>\n",
              "      <th>time</th>\n",
              "    </tr>\n",
              "  </thead>\n",
              "  <tbody>\n",
              "    <tr>\n",
              "      <td>0</td>\n",
              "      <td>0.809697</td>\n",
              "      <td>0.430360</td>\n",
              "      <td>0.839844</td>\n",
              "      <td>00:10</td>\n",
              "    </tr>\n",
              "  </tbody>\n",
              "</table>"
            ]
          },
          "metadata": {}
        },
        {
          "output_type": "display_data",
          "data": {
            "text/plain": [
              "<IPython.core.display.HTML object>"
            ],
            "text/html": [
              "\n",
              "<style>\n",
              "    /* Turns off some styling */\n",
              "    progress {\n",
              "        /* gets rid of default border in Firefox and Opera. */\n",
              "        border: none;\n",
              "        /* Needs to be in here for Safari polyfill so background images work as expected. */\n",
              "        background-size: auto;\n",
              "    }\n",
              "    progress:not([value]), progress:not([value])::-webkit-progress-bar {\n",
              "        background: repeating-linear-gradient(45deg, #7e7e7e, #7e7e7e 10px, #5c5c5c 10px, #5c5c5c 20px);\n",
              "    }\n",
              "    .progress-bar-interrupted, .progress-bar-interrupted::-webkit-progress-bar {\n",
              "        background: #F44336;\n",
              "    }\n",
              "</style>\n"
            ]
          },
          "metadata": {}
        },
        {
          "output_type": "display_data",
          "data": {
            "text/plain": [
              "<IPython.core.display.HTML object>"
            ],
            "text/html": [
              "<table border=\"1\" class=\"dataframe\">\n",
              "  <thead>\n",
              "    <tr style=\"text-align: left;\">\n",
              "      <th>epoch</th>\n",
              "      <th>train_loss</th>\n",
              "      <th>valid_loss</th>\n",
              "      <th>accuracy</th>\n",
              "      <th>time</th>\n",
              "    </tr>\n",
              "  </thead>\n",
              "  <tbody>\n",
              "    <tr>\n",
              "      <td>0</td>\n",
              "      <td>0.365646</td>\n",
              "      <td>0.379212</td>\n",
              "      <td>0.832031</td>\n",
              "      <td>00:10</td>\n",
              "    </tr>\n",
              "    <tr>\n",
              "      <td>1</td>\n",
              "      <td>0.272799</td>\n",
              "      <td>0.100936</td>\n",
              "      <td>0.964844</td>\n",
              "      <td>00:09</td>\n",
              "    </tr>\n",
              "    <tr>\n",
              "      <td>2</td>\n",
              "      <td>0.210600</td>\n",
              "      <td>0.004238</td>\n",
              "      <td>1.000000</td>\n",
              "      <td>00:10</td>\n",
              "    </tr>\n",
              "    <tr>\n",
              "      <td>3</td>\n",
              "      <td>0.174599</td>\n",
              "      <td>0.003639</td>\n",
              "      <td>1.000000</td>\n",
              "      <td>00:11</td>\n",
              "    </tr>\n",
              "  </tbody>\n",
              "</table>"
            ]
          },
          "metadata": {}
        },
        {
          "output_type": "display_data",
          "data": {
            "text/plain": [
              "<IPython.core.display.HTML object>"
            ],
            "text/html": [
              "\n",
              "<style>\n",
              "    /* Turns off some styling */\n",
              "    progress {\n",
              "        /* gets rid of default border in Firefox and Opera. */\n",
              "        border: none;\n",
              "        /* Needs to be in here for Safari polyfill so background images work as expected. */\n",
              "        background-size: auto;\n",
              "    }\n",
              "    progress:not([value]), progress:not([value])::-webkit-progress-bar {\n",
              "        background: repeating-linear-gradient(45deg, #7e7e7e, #7e7e7e 10px, #5c5c5c 10px, #5c5c5c 20px);\n",
              "    }\n",
              "    .progress-bar-interrupted, .progress-bar-interrupted::-webkit-progress-bar {\n",
              "        background: #F44336;\n",
              "    }\n",
              "</style>\n"
            ]
          },
          "metadata": {}
        },
        {
          "output_type": "display_data",
          "data": {
            "text/plain": [
              "<IPython.core.display.HTML object>"
            ],
            "text/html": [
              "<table border=\"1\" class=\"dataframe\">\n",
              "  <thead>\n",
              "    <tr style=\"text-align: left;\">\n",
              "      <th>epoch</th>\n",
              "      <th>train_loss</th>\n",
              "      <th>valid_loss</th>\n",
              "      <th>accuracy</th>\n",
              "      <th>time</th>\n",
              "    </tr>\n",
              "  </thead>\n",
              "  <tbody>\n",
              "    <tr>\n",
              "      <td>0</td>\n",
              "      <td>0.849972</td>\n",
              "      <td>0.703047</td>\n",
              "      <td>0.750000</td>\n",
              "      <td>00:09</td>\n",
              "    </tr>\n",
              "  </tbody>\n",
              "</table>"
            ]
          },
          "metadata": {}
        },
        {
          "output_type": "display_data",
          "data": {
            "text/plain": [
              "<IPython.core.display.HTML object>"
            ],
            "text/html": [
              "\n",
              "<style>\n",
              "    /* Turns off some styling */\n",
              "    progress {\n",
              "        /* gets rid of default border in Firefox and Opera. */\n",
              "        border: none;\n",
              "        /* Needs to be in here for Safari polyfill so background images work as expected. */\n",
              "        background-size: auto;\n",
              "    }\n",
              "    progress:not([value]), progress:not([value])::-webkit-progress-bar {\n",
              "        background: repeating-linear-gradient(45deg, #7e7e7e, #7e7e7e 10px, #5c5c5c 10px, #5c5c5c 20px);\n",
              "    }\n",
              "    .progress-bar-interrupted, .progress-bar-interrupted::-webkit-progress-bar {\n",
              "        background: #F44336;\n",
              "    }\n",
              "</style>\n"
            ]
          },
          "metadata": {}
        },
        {
          "output_type": "display_data",
          "data": {
            "text/plain": [
              "<IPython.core.display.HTML object>"
            ],
            "text/html": [
              "<table border=\"1\" class=\"dataframe\">\n",
              "  <thead>\n",
              "    <tr style=\"text-align: left;\">\n",
              "      <th>epoch</th>\n",
              "      <th>train_loss</th>\n",
              "      <th>valid_loss</th>\n",
              "      <th>accuracy</th>\n",
              "      <th>time</th>\n",
              "    </tr>\n",
              "  </thead>\n",
              "  <tbody>\n",
              "    <tr>\n",
              "      <td>0</td>\n",
              "      <td>0.375212</td>\n",
              "      <td>0.346397</td>\n",
              "      <td>0.888393</td>\n",
              "      <td>00:09</td>\n",
              "    </tr>\n",
              "    <tr>\n",
              "      <td>1</td>\n",
              "      <td>0.317665</td>\n",
              "      <td>0.228127</td>\n",
              "      <td>0.906250</td>\n",
              "      <td>00:08</td>\n",
              "    </tr>\n",
              "    <tr>\n",
              "      <td>2</td>\n",
              "      <td>0.269332</td>\n",
              "      <td>0.114461</td>\n",
              "      <td>0.946429</td>\n",
              "      <td>00:10</td>\n",
              "    </tr>\n",
              "    <tr>\n",
              "      <td>3</td>\n",
              "      <td>0.213761</td>\n",
              "      <td>0.032152</td>\n",
              "      <td>0.982143</td>\n",
              "      <td>00:09</td>\n",
              "    </tr>\n",
              "  </tbody>\n",
              "</table>"
            ]
          },
          "metadata": {}
        },
        {
          "output_type": "display_data",
          "data": {
            "text/plain": [
              "<IPython.core.display.HTML object>"
            ],
            "text/html": [
              "\n",
              "<style>\n",
              "    /* Turns off some styling */\n",
              "    progress {\n",
              "        /* gets rid of default border in Firefox and Opera. */\n",
              "        border: none;\n",
              "        /* Needs to be in here for Safari polyfill so background images work as expected. */\n",
              "        background-size: auto;\n",
              "    }\n",
              "    progress:not([value]), progress:not([value])::-webkit-progress-bar {\n",
              "        background: repeating-linear-gradient(45deg, #7e7e7e, #7e7e7e 10px, #5c5c5c 10px, #5c5c5c 20px);\n",
              "    }\n",
              "    .progress-bar-interrupted, .progress-bar-interrupted::-webkit-progress-bar {\n",
              "        background: #F44336;\n",
              "    }\n",
              "</style>\n"
            ]
          },
          "metadata": {}
        },
        {
          "output_type": "display_data",
          "data": {
            "text/plain": [
              "<IPython.core.display.HTML object>"
            ],
            "text/html": [
              "<table border=\"1\" class=\"dataframe\">\n",
              "  <thead>\n",
              "    <tr style=\"text-align: left;\">\n",
              "      <th>epoch</th>\n",
              "      <th>train_loss</th>\n",
              "      <th>valid_loss</th>\n",
              "      <th>accuracy</th>\n",
              "      <th>time</th>\n",
              "    </tr>\n",
              "  </thead>\n",
              "  <tbody>\n",
              "    <tr>\n",
              "      <td>0</td>\n",
              "      <td>0.935980</td>\n",
              "      <td>0.428088</td>\n",
              "      <td>0.808036</td>\n",
              "      <td>00:09</td>\n",
              "    </tr>\n",
              "  </tbody>\n",
              "</table>"
            ]
          },
          "metadata": {}
        },
        {
          "output_type": "display_data",
          "data": {
            "text/plain": [
              "<IPython.core.display.HTML object>"
            ],
            "text/html": [
              "\n",
              "<style>\n",
              "    /* Turns off some styling */\n",
              "    progress {\n",
              "        /* gets rid of default border in Firefox and Opera. */\n",
              "        border: none;\n",
              "        /* Needs to be in here for Safari polyfill so background images work as expected. */\n",
              "        background-size: auto;\n",
              "    }\n",
              "    progress:not([value]), progress:not([value])::-webkit-progress-bar {\n",
              "        background: repeating-linear-gradient(45deg, #7e7e7e, #7e7e7e 10px, #5c5c5c 10px, #5c5c5c 20px);\n",
              "    }\n",
              "    .progress-bar-interrupted, .progress-bar-interrupted::-webkit-progress-bar {\n",
              "        background: #F44336;\n",
              "    }\n",
              "</style>\n"
            ]
          },
          "metadata": {}
        },
        {
          "output_type": "display_data",
          "data": {
            "text/plain": [
              "<IPython.core.display.HTML object>"
            ],
            "text/html": [
              "<table border=\"1\" class=\"dataframe\">\n",
              "  <thead>\n",
              "    <tr style=\"text-align: left;\">\n",
              "      <th>epoch</th>\n",
              "      <th>train_loss</th>\n",
              "      <th>valid_loss</th>\n",
              "      <th>accuracy</th>\n",
              "      <th>time</th>\n",
              "    </tr>\n",
              "  </thead>\n",
              "  <tbody>\n",
              "    <tr>\n",
              "      <td>0</td>\n",
              "      <td>0.384432</td>\n",
              "      <td>0.234093</td>\n",
              "      <td>0.915179</td>\n",
              "      <td>00:08</td>\n",
              "    </tr>\n",
              "    <tr>\n",
              "      <td>1</td>\n",
              "      <td>0.298881</td>\n",
              "      <td>0.103938</td>\n",
              "      <td>0.968750</td>\n",
              "      <td>00:10</td>\n",
              "    </tr>\n",
              "    <tr>\n",
              "      <td>2</td>\n",
              "      <td>0.245037</td>\n",
              "      <td>0.092230</td>\n",
              "      <td>0.973214</td>\n",
              "      <td>00:09</td>\n",
              "    </tr>\n",
              "    <tr>\n",
              "      <td>3</td>\n",
              "      <td>0.188373</td>\n",
              "      <td>0.145821</td>\n",
              "      <td>0.959821</td>\n",
              "      <td>00:09</td>\n",
              "    </tr>\n",
              "  </tbody>\n",
              "</table>"
            ]
          },
          "metadata": {}
        }
      ]
    },
    {
      "cell_type": "code",
      "source": [
        "def my_accuracy(iter1, iter2):\n",
        "  if len(iter1) != len(iter2):\n",
        "    return None\n",
        "  count = 0\n",
        "  for i in range(len(iter1)):\n",
        "    if iter1[i] == iter2[i]:\n",
        "      count += 1\n",
        "\n",
        "  return count*100/len(iter1)\n",
        "def get_test_accuracy(model):\n",
        "  test_path = '/content/BreastCancerPrediction/dataset_test/'\n",
        "  test_xy = split_files(1, base_path=test_path)[0]\n",
        "  x, y = [], []\n",
        "  for a, b in test_xy:\n",
        "    x.append(a)\n",
        "    y.append(b)\n",
        "  test_dl = model.dls.test_dl(x)\n",
        "  preds = model.learn.get_preds(dl=test_dl)\n",
        "  preds = preds[0].argmax(dim=1)\n",
        "  preds = [model.dls.vocab[i] for i in preds]\n",
        "  return accuracy(preds, y), len(preds)\n",
        "\n",
        "def get_test_values(model):\n",
        "  test_path = '/content/BreastCancerPrediction/dataset_test/'\n",
        "  test_xy = split_files(1, base_path=test_path)[0]\n",
        "  x, y = [], []\n",
        "  for a, b in test_xy:\n",
        "    x.append(a)\n",
        "    y.append(b)\n",
        "  test_dl = model.dls.test_dl(x)\n",
        "  preds = model.learn.get_preds(dl=test_dl)\n",
        "  preds = preds[0].argmax(dim=1)\n",
        "  preds = [model.dls.vocab[i] for i in preds]\n",
        "  return y, preds\n",
        "\n",
        "def get_testxy():\n",
        "  test_path = '/content/BreastCancerPrediction/dataset_test/'\n",
        "  test_xy = split_files(1, base_path=test_path)[0]\n",
        "  x, y = [], []\n",
        "  for a, b in test_xy:\n",
        "    x.append(a)\n",
        "    y.append(b)\n",
        "  return x, y"
      ],
      "metadata": {
        "id": "riQeuPzKS7wX"
      },
      "execution_count": null,
      "outputs": []
    },
    {
      "cell_type": "code",
      "source": [
        "def plot(y_actual, y_preds):\n",
        "  # Compute the confusion matrix\n",
        "  cm = confusion_matrix(y_actual, y_preds)\n",
        "\n",
        "  # Plot the confusion matrix\n",
        "  plt.figure(figsize=(10,10))\n",
        "  sns.heatmap(cm, annot=True, fmt=\".0f\", linewidths=.5, square = True, cmap = 'Blues', xticklabels=['healthy', 'unhealthy'], yticklabels=['healthy', 'unhealthy']);\n",
        "  plt.ylabel('Actual label');\n",
        "  plt.xlabel('Predicted label');\n",
        "  plt.title('Confusion Matrix', size = 15);\n",
        "  plt.show()"
      ],
      "metadata": {
        "id": "QkTUzXl0DI9S"
      },
      "execution_count": null,
      "outputs": []
    },
    {
      "cell_type": "code",
      "source": [
        "def get_metrics(y_actual, y_preds):\n",
        "# Compute the metrics\n",
        "  model_accuracy = accuracy_score(y_actual, y_preds)\n",
        "  f1 = f1_score(y_actual, y_preds, average='weighted')\n",
        "  precision = precision_score(y_actual, y_preds, average='weighted')\n",
        "  recall = recall_score(y_actual, y_preds, average='weighted')\n",
        "\n",
        "  return {'accuracy': model_accuracy, 'f1': f1, 'precision': precision, 'recall': recall}"
      ],
      "metadata": {
        "id": "v4OiN3oGIxM0"
      },
      "execution_count": null,
      "outputs": []
    },
    {
      "cell_type": "code",
      "source": [
        "y_actual, y_preds = get_test_values(model0)\n",
        "print(get_metrics(y_actual, y_preds))\n",
        "plot(y_actual, y_preds)"
      ],
      "metadata": {
        "colab": {
          "base_uri": "https://localhost:8080/",
          "height": 859
        },
        "id": "7zveYJxLH9GW",
        "outputId": "94e18a12-5b37-4c6c-92cb-18ec49de19d0"
      },
      "execution_count": null,
      "outputs": [
        {
          "output_type": "stream",
          "name": "stdout",
          "text": [
            "First contains 120 healthy and 120 unhealthy\n",
            "Second contains 120 healthy and 120 unhealthy\n"
          ]
        },
        {
          "output_type": "display_data",
          "data": {
            "text/plain": [
              "<IPython.core.display.HTML object>"
            ],
            "text/html": [
              "\n",
              "<style>\n",
              "    /* Turns off some styling */\n",
              "    progress {\n",
              "        /* gets rid of default border in Firefox and Opera. */\n",
              "        border: none;\n",
              "        /* Needs to be in here for Safari polyfill so background images work as expected. */\n",
              "        background-size: auto;\n",
              "    }\n",
              "    progress:not([value]), progress:not([value])::-webkit-progress-bar {\n",
              "        background: repeating-linear-gradient(45deg, #7e7e7e, #7e7e7e 10px, #5c5c5c 10px, #5c5c5c 20px);\n",
              "    }\n",
              "    .progress-bar-interrupted, .progress-bar-interrupted::-webkit-progress-bar {\n",
              "        background: #F44336;\n",
              "    }\n",
              "</style>\n"
            ]
          },
          "metadata": {}
        },
        {
          "output_type": "display_data",
          "data": {
            "text/plain": [
              "<IPython.core.display.HTML object>"
            ],
            "text/html": []
          },
          "metadata": {}
        },
        {
          "output_type": "stream",
          "name": "stdout",
          "text": [
            "{'accuracy': 0.8583333333333333, 'f1': 0.8573426573426574, 'precision': 0.8685714285714285, 'recall': 0.8583333333333333}\n"
          ]
        },
        {
          "output_type": "display_data",
          "data": {
            "text/plain": [
              "<Figure size 1000x1000 with 2 Axes>"
            ],
            "image/png": "[encoded data removed]"
          },
          "metadata": {}
        }
      ]
    },
    {
      "cell_type": "code",
      "source": [
        "def get_class_probs(model, path=test_path):\n",
        "  test_xy = split_files(1, base_path=path)[0]\n",
        "  x, y = [], []\n",
        "  for a, b in test_xy:\n",
        "    x.append(a)\n",
        "    y.append(b)\n",
        "  test_dl = model.dls.test_dl(x)\n",
        "  preds = model.learn.get_preds(dl=test_dl)\n",
        "  print(f\"Length of data is {len(preds[0])}\")\n",
        "  return preds, y"
      ],
      "metadata": {
        "id": "qu8XrtW7gkRo"
      },
      "execution_count": null,
      "outputs": []
    },
    {
      "cell_type": "code",
      "source": [
        "# preds, y = get_class_probs(model0, path=train_path)"
      ],
      "metadata": {
        "colab": {
          "base_uri": "https://localhost:8080/",
          "height": 69
        },
        "id": "swYRX_bLilDA",
        "outputId": "07a46b4c-bb68-4755-b0d1-66a634f1a668"
      },
      "execution_count": null,
      "outputs": [
        {
          "output_type": "stream",
          "name": "stdout",
          "text": [
            "First contains 642 healthy and 640 unhealthy\n",
            "Second contains 642 healthy and 640 unhealthy\n"
          ]
        },
        {
          "output_type": "display_data",
          "data": {
            "text/plain": [
              "<IPython.core.display.HTML object>"
            ],
            "text/html": [
              "\n",
              "<style>\n",
              "    /* Turns off some styling */\n",
              "    progress {\n",
              "        /* gets rid of default border in Firefox and Opera. */\n",
              "        border: none;\n",
              "        /* Needs to be in here for Safari polyfill so background images work as expected. */\n",
              "        background-size: auto;\n",
              "    }\n",
              "    progress:not([value]), progress:not([value])::-webkit-progress-bar {\n",
              "        background: repeating-linear-gradient(45deg, #7e7e7e, #7e7e7e 10px, #5c5c5c 10px, #5c5c5c 20px);\n",
              "    }\n",
              "    .progress-bar-interrupted, .progress-bar-interrupted::-webkit-progress-bar {\n",
              "        background: #F44336;\n",
              "    }\n",
              "</style>\n"
            ]
          },
          "metadata": {}
        },
        {
          "output_type": "display_data",
          "data": {
            "text/plain": [
              "<IPython.core.display.HTML object>"
            ],
            "text/html": []
          },
          "metadata": {}
        },
        {
          "output_type": "stream",
          "name": "stdout",
          "text": [
            "Length of data is 1282\n"
          ]
        }
      ]
    },
    {
      "cell_type": "code",
      "source": [
        "preds2, y = get_class_probs(model1, path=train_path)"
      ],
      "metadata": {
        "colab": {
          "base_uri": "https://localhost:8080/",
          "height": 69
        },
        "id": "eRoqKPJsi9dE",
        "outputId": "8eaf907d-16dd-4aaf-de72-b4fbc2f0019f"
      },
      "execution_count": null,
      "outputs": [
        {
          "output_type": "stream",
          "name": "stdout",
          "text": [
            "First contains 642 healthy and 640 unhealthy\n",
            "Second contains 642 healthy and 640 unhealthy\n"
          ]
        },
        {
          "output_type": "display_data",
          "data": {
            "text/plain": [
              "<IPython.core.display.HTML object>"
            ],
            "text/html": [
              "\n",
              "<style>\n",
              "    /* Turns off some styling */\n",
              "    progress {\n",
              "        /* gets rid of default border in Firefox and Opera. */\n",
              "        border: none;\n",
              "        /* Needs to be in here for Safari polyfill so background images work as expected. */\n",
              "        background-size: auto;\n",
              "    }\n",
              "    progress:not([value]), progress:not([value])::-webkit-progress-bar {\n",
              "        background: repeating-linear-gradient(45deg, #7e7e7e, #7e7e7e 10px, #5c5c5c 10px, #5c5c5c 20px);\n",
              "    }\n",
              "    .progress-bar-interrupted, .progress-bar-interrupted::-webkit-progress-bar {\n",
              "        background: #F44336;\n",
              "    }\n",
              "</style>\n"
            ]
          },
          "metadata": {}
        },
        {
          "output_type": "display_data",
          "data": {
            "text/plain": [
              "<IPython.core.display.HTML object>"
            ],
            "text/html": []
          },
          "metadata": {}
        },
        {
          "output_type": "stream",
          "name": "stdout",
          "text": [
            "Length of data is 1282\n"
          ]
        }
      ]
    },
    {
      "cell_type": "code",
      "source": [
        "print(preds[0][0], preds2[0][0])"
      ],
      "metadata": {
        "colab": {
          "base_uri": "https://localhost:8080/"
        },
        "id": "T-BfoIyFjwTh",
        "outputId": "af58190d-3776-41cd-fe6f-0145582244b2"
      },
      "execution_count": null,
      "outputs": [
        {
          "output_type": "stream",
          "name": "stdout",
          "text": [
            "tensor([5.6217e-06, 9.9999e-01]) tensor([9.9906e-01, 9.3979e-04])\n"
          ]
        }
      ]
    },
    {
      "cell_type": "code",
      "source": [
        "train_preds, train_preds2 = preds[0], preds2[0]\n",
        "train_x = torch.cat((preds, preds2), dim=1)\n",
        "train_y = y\n",
        "print(len(train_x), len(train_y))"
      ],
      "metadata": {
        "colab": {
          "base_uri": "https://localhost:8080/"
        },
        "id": "Fz1rrof1j2NJ",
        "outputId": "4ea524e8-aeaa-499f-dcbe-042afea020db"
      },
      "execution_count": null,
      "outputs": [
        {
          "output_type": "stream",
          "name": "stdout",
          "text": [
            "1282 1282\n"
          ]
        }
      ]
    },
    {
      "cell_type": "code",
      "source": [
        "preds, y = get_class_probs(model0, path=test_path)\n",
        "preds2, y = get_class_probs(model1, path=test_path)\n",
        "preds, preds2 = preds[0], preds2[0]\n",
        "test_x = torch.cat((preds, preds2), dim=1)\n",
        "test_y = y\n",
        "print(len(test_x), len(test_y))"
      ],
      "metadata": {
        "colab": {
          "base_uri": "https://localhost:8080/",
          "height": 138
        },
        "id": "PaygVWE6mVDA",
        "outputId": "541e8098-892f-42db-d20e-86850aaa03e2"
      },
      "execution_count": null,
      "outputs": [
        {
          "output_type": "stream",
          "name": "stdout",
          "text": [
            "First contains 120 healthy and 120 unhealthy\n",
            "Second contains 120 healthy and 120 unhealthy\n"
          ]
        },
        {
          "output_type": "display_data",
          "data": {
            "text/plain": [
              "<IPython.core.display.HTML object>"
            ],
            "text/html": [
              "\n",
              "<style>\n",
              "    /* Turns off some styling */\n",
              "    progress {\n",
              "        /* gets rid of default border in Firefox and Opera. */\n",
              "        border: none;\n",
              "        /* Needs to be in here for Safari polyfill so background images work as expected. */\n",
              "        background-size: auto;\n",
              "    }\n",
              "    progress:not([value]), progress:not([value])::-webkit-progress-bar {\n",
              "        background: repeating-linear-gradient(45deg, #7e7e7e, #7e7e7e 10px, #5c5c5c 10px, #5c5c5c 20px);\n",
              "    }\n",
              "    .progress-bar-interrupted, .progress-bar-interrupted::-webkit-progress-bar {\n",
              "        background: #F44336;\n",
              "    }\n",
              "</style>\n"
            ]
          },
          "metadata": {}
        },
        {
          "output_type": "display_data",
          "data": {
            "text/plain": [
              "<IPython.core.display.HTML object>"
            ],
            "text/html": []
          },
          "metadata": {}
        },
        {
          "output_type": "stream",
          "name": "stdout",
          "text": [
            "Length of data is 240\n",
            "First contains 120 healthy and 120 unhealthy\n",
            "Second contains 120 healthy and 120 unhealthy\n"
          ]
        },
        {
          "output_type": "display_data",
          "data": {
            "text/plain": [
              "<IPython.core.display.HTML object>"
            ],
            "text/html": [
              "\n",
              "<style>\n",
              "    /* Turns off some styling */\n",
              "    progress {\n",
              "        /* gets rid of default border in Firefox and Opera. */\n",
              "        border: none;\n",
              "        /* Needs to be in here for Safari polyfill so background images work as expected. */\n",
              "        background-size: auto;\n",
              "    }\n",
              "    progress:not([value]), progress:not([value])::-webkit-progress-bar {\n",
              "        background: repeating-linear-gradient(45deg, #7e7e7e, #7e7e7e 10px, #5c5c5c 10px, #5c5c5c 20px);\n",
              "    }\n",
              "    .progress-bar-interrupted, .progress-bar-interrupted::-webkit-progress-bar {\n",
              "        background: #F44336;\n",
              "    }\n",
              "</style>\n"
            ]
          },
          "metadata": {}
        },
        {
          "output_type": "display_data",
          "data": {
            "text/plain": [
              "<IPython.core.display.HTML object>"
            ],
            "text/html": []
          },
          "metadata": {}
        },
        {
          "output_type": "stream",
          "name": "stdout",
          "text": [
            "Length of data is 240\n",
            "240 240\n"
          ]
        }
      ]
    },
    {
      "cell_type": "code",
      "source": [
        "labels = {'healthy': 0, 'unhealthy': 1}\n",
        "train_y = [labels[i] for i in train_y]\n",
        "test_y = [labels[i] for i in test_y]"
      ],
      "metadata": {
        "id": "H9DksXJRnCKW"
      },
      "execution_count": null,
      "outputs": []
    },
    {
      "cell_type": "code",
      "source": [
        "class ClassificationModel(nn.Module):\n",
        "    def __init__(self, input_size, hidden_size, output_size):\n",
        "        super(ClassificationModel, self).__init__()\n",
        "        self.input_size = input_size\n",
        "        self.hidden_size = hidden_size\n",
        "        self.output_size = output_size\n",
        "\n",
        "        # Define layers\n",
        "        self.fc1 = nn.Linear(input_size, hidden_size)\n",
        "        self.fc2 = nn.Linear(hidden_size, output_size)\n",
        "\n",
        "        # Define optimizer and loss function\n",
        "        self.optimizer = optim.SGD(self.parameters(), lr=0.01)\n",
        "        self.criterion = nn.CrossEntropyLoss()\n",
        "\n",
        "    def forward(self, x):\n",
        "        x = F.relu(self.fc1(x))\n",
        "        x = self.fc2(x)\n",
        "        return x\n",
        "\n",
        "    def train_model(self, train_data, train_labels, epochs=10, batch_size=32):\n",
        "        for epoch in range(epochs):\n",
        "            running_loss = 0.0\n",
        "            for i in range(0, len(train_data), batch_size):\n",
        "                inputs = train_data[i:i+batch_size]\n",
        "                labels = train_labels[i:i+batch_size]\n",
        "\n",
        "                self.optimizer.zero_grad()  # Zero the gradients\n",
        "                outputs = self(inputs)      # Forward pass\n",
        "                loss = self.criterion(outputs, labels)  # Compute the loss\n",
        "                loss.backward()             # Backward pass\n",
        "                self.optimizer.step()       # Optimize the weights\n",
        "                running_loss += loss.item()\n",
        "\n",
        "            print(f\"Epoch {epoch+1}, Loss: {running_loss / (len(train_data) / batch_size)}\")\n",
        "\n",
        "    def test_model(self, test_data, test_labels, batch_size=32):\n",
        "        correct = 0\n",
        "        total = 0\n",
        "        with torch.no_grad():\n",
        "            for i in range(0, len(test_data), batch_size):\n",
        "                inputs = test_data[i:i+batch_size]\n",
        "                labels = test_labels[i:i+batch_size]\n",
        "\n",
        "                outputs = self(inputs)\n",
        "                _, predicted = torch.max(outputs.data, 1)\n",
        "                total += labels.size(0)\n",
        "                correct += (predicted == labels).sum().item()\n",
        "\n",
        "        print(f\"Accuracy on the test set: {(100 * correct / total):.2f}%\")\n"
      ],
      "metadata": {
        "id": "FV06CG2uKkt8"
      },
      "execution_count": null,
      "outputs": []
    },
    {
      "cell_type": "code",
      "source": [
        "class Ensemble:\n",
        "  def __init__(self, models, train_path=train_path, test_path=test_path):\n",
        "    self.models = models\n",
        "    self.train_path = train_path\n",
        "    self.test_path = test_path\n",
        "    self.ensemble_model = ClassificationModel(input_size=2*len(models), hidden_size=50, output_size=2)\n",
        "    self._generate_data()\n",
        "    self._generate_ensemble_data()\n",
        "\n",
        "  def train_ensemble(self, epochs=10):\n",
        "    self.ensemble_model.train_model(self.train_ensemble_x, self.train_y, epochs=epochs)\n",
        "\n",
        "  def get_test_accuracy(self):\n",
        "    self.ensemble_model.test_model(self.test_ensemble_x, self.test_y)\n",
        "\n",
        "  def _generate_ensemble_data(self):\n",
        "    self.train_ensemble_x = []\n",
        "    self.test_ensemble_x = []\n",
        "    for model in self.models:\n",
        "        print(f\"Generating train data for model {model.id}\")\n",
        "        pred_values = self._generate_single_model_data(model, train=True)\n",
        "        self.train_ensemble_x.append(pred_values)\n",
        "        print(f\"Generating test data for model {model.id}\")\n",
        "        pred_values = self._generate_single_model_data(model, train=False)\n",
        "        self.test_ensemble_x.append(pred_values)\n",
        "\n",
        "    self.train_ensemble_x = torch.cat(self.train_ensemble_x, dim=1)\n",
        "    self.train_ensemble_y = torch.tensor(self.train_y)\n",
        "    self.test_ensemble_x = torch.cat(self.test_ensemble_x, dim=1)\n",
        "    self.test_ensemble_y = torch.tensor(self.test_y)\n",
        "\n",
        "    return None\n",
        "\n",
        "  def _generate_data(self):\n",
        "    self.train_files = split_files(1, train_path)[0]\n",
        "    self.test_files = split_files(1, test_path)[0]\n",
        "    self.len_train = len(self.train_files)\n",
        "    self.len_test = len(self.test_files)\n",
        "    print(f\"Length of train files is {self.len_train}\")\n",
        "    print(f\"Length of test files is {self.len_test}\")\n",
        "    self.train_x = []\n",
        "    self.train_y = []\n",
        "\n",
        "    #generating and storing train X and train Y values\n",
        "    for x, y in range(self.len_train):\n",
        "      self.train_x.append(x)\n",
        "      self.train_y.append(y)\n",
        "\n",
        "    self.test_x = []\n",
        "    self.test_y = []\n",
        "\n",
        "    #generating and storing test X and test Y values\n",
        "    for x, y in range(self.len_test):\n",
        "      self.test_x.append(x)\n",
        "      self.test_y.append(y)\n",
        "\n",
        "    return None\n",
        "\n",
        "  def _generate_single_model_data(self, model, train=True):\n",
        "    if train:\n",
        "      data_x = self.train_x\n",
        "    else:\n",
        "      data_x = self.test_x\n",
        "\n",
        "    test_dl = model.dls.test_dl(data_x)\n",
        "    preds = model.learn.get_preds(dl=test_dl)\n",
        "    print(f\"Length of data is {len(preds[0])}\")\n",
        "\n",
        "    #return probabilities of the classes\n",
        "    return preds"
      ],
      "metadata": {
        "id": "LGi2Dk9ho_5k"
      },
      "execution_count": null,
      "outputs": []
    },
    {
      "cell_type": "code",
      "source": [
        "files = split_files(1, base_path)"
      ],
      "metadata": {
        "id": "Qo0MTjhqPSKx"
      },
      "execution_count": null,
      "outputs": []
    }
  ],
  "metadata": {
    "kernelspec": {
      "display_name": "Python 3",
      "name": "python3"
    },
    "language_info": {
      "codemirror_mode": {
        "name": "ipython",
        "version": 3
      },
      "file_extension": ".py",
      "mimetype": "text/x-python",
      "name": "python",
      "nbconvert_exporter": "python",
      "pygments_lexer": "ipython3",
      "version": "3.9.13"
    },
    "colab": {
      "provenance": [],
      "gpuType": "T4"
    },
    "accelerator": "GPU"
  },
  "nbformat": 4,
  "nbformat_minor": 0
}