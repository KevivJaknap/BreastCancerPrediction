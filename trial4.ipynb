{
  "cells": [
    {
      "cell_type": "code",
      "execution_count": 1,
      "metadata": {
        "id": "HLuLQ38IBk6m"
      },
      "outputs": [],
      "source": [
        "import os\n",
        "from fastai.vision.all import *\n",
        "from pathlib import Path\n",
        "from PIL import Image\n",
        "import matplotlib.pyplot as plt\n",
        "from sklearn.metrics import confusion_matrix\n",
        "import matplotlib.pyplot as plt\n",
        "import seaborn as sns\n",
        "from sklearn.metrics import accuracy_score, f1_score, precision_score, recall_score\n",
        "from fastai.callback.hook import *\n",
        "import torch\n",
        "import torch.nn as nn\n",
        "import torch.optim as optim\n",
        "import torch.nn.functional as F"
      ]
    },
    {
      "cell_type": "code",
      "source": [
        "!git clone https://github.com/KevivJaknap/BreastCancerPrediction.git"
      ],
      "metadata": {
        "id": "6PDAi1zJPwg2",
        "outputId": "220b164d-a212-4bb6-cb0f-143c6285e7be",
        "colab": {
          "base_uri": "https://localhost:8080/"
        }
      },
      "execution_count": 2,
      "outputs": [
        {
          "output_type": "stream",
          "name": "stdout",
          "text": [
            "Cloning into 'BreastCancerPrediction'...\n",
            "remote: Enumerating objects: 1601, done.\u001b[K\n",
            "remote: Counting objects: 100% (18/18), done.\u001b[K\n",
            "remote: Compressing objects: 100% (17/17), done.\u001b[K\n",
            "remote: Total 1601 (delta 8), reused 5 (delta 1), pack-reused 1583\u001b[K\n",
            "Receiving objects: 100% (1601/1601), 44.25 MiB | 22.52 MiB/s, done.\n",
            "Resolving deltas: 100% (61/61), done.\n"
          ]
        }
      ]
    },
    {
      "cell_type": "code",
      "execution_count": 3,
      "metadata": {
        "id": "ivDlJhXSBk6m"
      },
      "outputs": [],
      "source": [
        "def get_labels(file_path):\n",
        "    if file_path[0] == 'N':\n",
        "        return 'healthy'\n",
        "    else:\n",
        "        return 'unhealthy'\n",
        "test_path = '/content/BreastCancerPrediction/dataset_test/'\n",
        "train_path = '/content/BreastCancerPrediction/dataset_train/'"
      ]
    },
    {
      "cell_type": "code",
      "execution_count": 4,
      "metadata": {
        "id": "EF4GjRjPBk6n"
      },
      "outputs": [],
      "source": [
        "def split_files(beta, base_path=train_path):\n",
        "    healthy_files = []\n",
        "    unhealthy_files = []\n",
        "    for root, dirs, files in os.walk(base_path):\n",
        "        for file in files:\n",
        "            if file.startswith('N'):\n",
        "                healthy_files.append((base_path+file, 'healthy'))\n",
        "            else:\n",
        "                unhealthy_files.append((base_path+file, 'unhealthy'))\n",
        "    len_healthy = len(healthy_files)\n",
        "    len_unhealthy = len(unhealthy_files)\n",
        "\n",
        "\n",
        "    #split into two sets\n",
        "    first = healthy_files[:] + random.sample(unhealthy_files, int(len_unhealthy*beta))\n",
        "    second = random.sample(healthy_files, int(len_healthy*beta)) + unhealthy_files[:]\n",
        "    random.shuffle(first)\n",
        "    random.shuffle(second)\n",
        "\n",
        "    print(f\"First contains {len_healthy} healthy and {len(first) - len_healthy} unhealthy\")\n",
        "    print(f\"Second contains {len(second)-len_unhealthy} healthy and {len_unhealthy} unhealthy\")\n",
        "    return first, second"
      ]
    },
    {
      "cell_type": "code",
      "execution_count": 5,
      "metadata": {
        "id": "o3dWeSmdBk6n"
      },
      "outputs": [],
      "source": [
        "class CNN:\n",
        "    def __init__(self, id, files):\n",
        "        self.id = id\n",
        "        self.files = files\n",
        "        self.dblock = DataBlock(blocks=(ImageBlock, CategoryBlock),\n",
        "                   get_x=ColReader(0),\n",
        "                   get_y=ColReader(1),\n",
        "                   splitter=RandomSplitter(),\n",
        "                   item_tfms=Resize(224),\n",
        "                   batch_tfms=aug_transforms(size=224, min_scale=0.75))\n",
        "        self.dls = self.dblock.dataloaders(self.files, bs=64)\n",
        "        self.learn = vision_learner(self.dls, resnet34, metrics=accuracy)\n",
        "\n",
        "    def train(self, epochs):\n",
        "        self.learn.fine_tune(epochs)\n",
        "\n",
        "    def show_batch(self):\n",
        "        self.dls.show_batch()\n",
        "\n",
        "    def save(self):\n",
        "        self.learn.export(f'./models/model_{self.id}.pkl')\n",
        "\n",
        "    def load(self):\n",
        "        self.learn = load_learner(f'./models/model_{self.id}.pkl')\n",
        "\n",
        "    def predict(self, file_path):\n",
        "        img = Image.open(file_path)\n",
        "        return self.learn.predict(img)\n",
        "\n",
        "    def plot(self):\n",
        "        self.learn.recorder.plot_loss()\n",
        "\n",
        "    def show_results(self):\n",
        "        self.learn.show_results()"
      ]
    },
    {
      "cell_type": "code",
      "source": [
        "files1, files2 = split_files(0.75)\n",
        "files0 = split_files(1)[0]\n",
        "model0 = CNN(id = 0, files = files0)\n",
        "model1 = CNN(id = 1, files = files0)\n",
        "model2 = CNN(id = 2, files = files0)\n",
        "model3 = CNN(id = 3, files = files0)\n",
        "model0.train(10)\n",
        "model1.train(10)\n",
        "model2.train(10)"
      ],
      "metadata": {
        "id": "E5Jbk8raQvaB",
        "outputId": "94f42b07-2652-45b0-de18-2cf38e22c3d8",
        "colab": {
          "base_uri": "https://localhost:8080/",
          "height": 1000
        }
      },
      "execution_count": 47,
      "outputs": [
        {
          "output_type": "stream",
          "name": "stdout",
          "text": [
            "First contains 642 healthy and 480 unhealthy\n",
            "Second contains 481 healthy and 640 unhealthy\n",
            "First contains 642 healthy and 640 unhealthy\n",
            "Second contains 642 healthy and 640 unhealthy\n"
          ]
        },
        {
          "output_type": "display_data",
          "data": {
            "text/plain": [
              "<IPython.core.display.HTML object>"
            ],
            "text/html": [
              "\n",
              "<style>\n",
              "    /* Turns off some styling */\n",
              "    progress {\n",
              "        /* gets rid of default border in Firefox and Opera. */\n",
              "        border: none;\n",
              "        /* Needs to be in here for Safari polyfill so background images work as expected. */\n",
              "        background-size: auto;\n",
              "    }\n",
              "    progress:not([value]), progress:not([value])::-webkit-progress-bar {\n",
              "        background: repeating-linear-gradient(45deg, #7e7e7e, #7e7e7e 10px, #5c5c5c 10px, #5c5c5c 20px);\n",
              "    }\n",
              "    .progress-bar-interrupted, .progress-bar-interrupted::-webkit-progress-bar {\n",
              "        background: #F44336;\n",
              "    }\n",
              "</style>\n"
            ]
          },
          "metadata": {}
        },
        {
          "output_type": "display_data",
          "data": {
            "text/plain": [
              "<IPython.core.display.HTML object>"
            ],
            "text/html": [
              "<table border=\"1\" class=\"dataframe\">\n",
              "  <thead>\n",
              "    <tr style=\"text-align: left;\">\n",
              "      <th>epoch</th>\n",
              "      <th>train_loss</th>\n",
              "      <th>valid_loss</th>\n",
              "      <th>accuracy</th>\n",
              "      <th>time</th>\n",
              "    </tr>\n",
              "  </thead>\n",
              "  <tbody>\n",
              "    <tr>\n",
              "      <td>0</td>\n",
              "      <td>0.778373</td>\n",
              "      <td>0.895789</td>\n",
              "      <td>0.714844</td>\n",
              "      <td>00:10</td>\n",
              "    </tr>\n",
              "  </tbody>\n",
              "</table>"
            ]
          },
          "metadata": {}
        },
        {
          "output_type": "display_data",
          "data": {
            "text/plain": [
              "<IPython.core.display.HTML object>"
            ],
            "text/html": [
              "\n",
              "<style>\n",
              "    /* Turns off some styling */\n",
              "    progress {\n",
              "        /* gets rid of default border in Firefox and Opera. */\n",
              "        border: none;\n",
              "        /* Needs to be in here for Safari polyfill so background images work as expected. */\n",
              "        background-size: auto;\n",
              "    }\n",
              "    progress:not([value]), progress:not([value])::-webkit-progress-bar {\n",
              "        background: repeating-linear-gradient(45deg, #7e7e7e, #7e7e7e 10px, #5c5c5c 10px, #5c5c5c 20px);\n",
              "    }\n",
              "    .progress-bar-interrupted, .progress-bar-interrupted::-webkit-progress-bar {\n",
              "        background: #F44336;\n",
              "    }\n",
              "</style>\n"
            ]
          },
          "metadata": {}
        },
        {
          "output_type": "display_data",
          "data": {
            "text/plain": [
              "<IPython.core.display.HTML object>"
            ],
            "text/html": [
              "<table border=\"1\" class=\"dataframe\">\n",
              "  <thead>\n",
              "    <tr style=\"text-align: left;\">\n",
              "      <th>epoch</th>\n",
              "      <th>train_loss</th>\n",
              "      <th>valid_loss</th>\n",
              "      <th>accuracy</th>\n",
              "      <th>time</th>\n",
              "    </tr>\n",
              "  </thead>\n",
              "  <tbody>\n",
              "    <tr>\n",
              "      <td>0</td>\n",
              "      <td>0.407618</td>\n",
              "      <td>0.457386</td>\n",
              "      <td>0.812500</td>\n",
              "      <td>00:13</td>\n",
              "    </tr>\n",
              "    <tr>\n",
              "      <td>1</td>\n",
              "      <td>0.304735</td>\n",
              "      <td>0.104709</td>\n",
              "      <td>0.953125</td>\n",
              "      <td>00:11</td>\n",
              "    </tr>\n",
              "    <tr>\n",
              "      <td>2</td>\n",
              "      <td>0.227336</td>\n",
              "      <td>0.119033</td>\n",
              "      <td>0.957031</td>\n",
              "      <td>00:11</td>\n",
              "    </tr>\n",
              "    <tr>\n",
              "      <td>3</td>\n",
              "      <td>0.198546</td>\n",
              "      <td>0.064665</td>\n",
              "      <td>0.976562</td>\n",
              "      <td>00:11</td>\n",
              "    </tr>\n",
              "    <tr>\n",
              "      <td>4</td>\n",
              "      <td>0.196439</td>\n",
              "      <td>0.584859</td>\n",
              "      <td>0.847656</td>\n",
              "      <td>00:11</td>\n",
              "    </tr>\n",
              "    <tr>\n",
              "      <td>5</td>\n",
              "      <td>0.171428</td>\n",
              "      <td>0.381691</td>\n",
              "      <td>0.906250</td>\n",
              "      <td>00:11</td>\n",
              "    </tr>\n",
              "    <tr>\n",
              "      <td>6</td>\n",
              "      <td>0.137195</td>\n",
              "      <td>0.232672</td>\n",
              "      <td>0.914062</td>\n",
              "      <td>00:11</td>\n",
              "    </tr>\n",
              "    <tr>\n",
              "      <td>7</td>\n",
              "      <td>0.107566</td>\n",
              "      <td>0.146706</td>\n",
              "      <td>0.941406</td>\n",
              "      <td>00:11</td>\n",
              "    </tr>\n",
              "    <tr>\n",
              "      <td>8</td>\n",
              "      <td>0.087617</td>\n",
              "      <td>0.157697</td>\n",
              "      <td>0.941406</td>\n",
              "      <td>00:11</td>\n",
              "    </tr>\n",
              "    <tr>\n",
              "      <td>9</td>\n",
              "      <td>0.072333</td>\n",
              "      <td>0.184735</td>\n",
              "      <td>0.933594</td>\n",
              "      <td>00:11</td>\n",
              "    </tr>\n",
              "  </tbody>\n",
              "</table>"
            ]
          },
          "metadata": {}
        },
        {
          "output_type": "display_data",
          "data": {
            "text/plain": [
              "<IPython.core.display.HTML object>"
            ],
            "text/html": [
              "\n",
              "<style>\n",
              "    /* Turns off some styling */\n",
              "    progress {\n",
              "        /* gets rid of default border in Firefox and Opera. */\n",
              "        border: none;\n",
              "        /* Needs to be in here for Safari polyfill so background images work as expected. */\n",
              "        background-size: auto;\n",
              "    }\n",
              "    progress:not([value]), progress:not([value])::-webkit-progress-bar {\n",
              "        background: repeating-linear-gradient(45deg, #7e7e7e, #7e7e7e 10px, #5c5c5c 10px, #5c5c5c 20px);\n",
              "    }\n",
              "    .progress-bar-interrupted, .progress-bar-interrupted::-webkit-progress-bar {\n",
              "        background: #F44336;\n",
              "    }\n",
              "</style>\n"
            ]
          },
          "metadata": {}
        },
        {
          "output_type": "display_data",
          "data": {
            "text/plain": [
              "<IPython.core.display.HTML object>"
            ],
            "text/html": [
              "<table border=\"1\" class=\"dataframe\">\n",
              "  <thead>\n",
              "    <tr style=\"text-align: left;\">\n",
              "      <th>epoch</th>\n",
              "      <th>train_loss</th>\n",
              "      <th>valid_loss</th>\n",
              "      <th>accuracy</th>\n",
              "      <th>time</th>\n",
              "    </tr>\n",
              "  </thead>\n",
              "  <tbody>\n",
              "    <tr>\n",
              "      <td>0</td>\n",
              "      <td>0.794675</td>\n",
              "      <td>0.345546</td>\n",
              "      <td>0.855469</td>\n",
              "      <td>00:10</td>\n",
              "    </tr>\n",
              "  </tbody>\n",
              "</table>"
            ]
          },
          "metadata": {}
        },
        {
          "output_type": "display_data",
          "data": {
            "text/plain": [
              "<IPython.core.display.HTML object>"
            ],
            "text/html": [
              "\n",
              "<style>\n",
              "    /* Turns off some styling */\n",
              "    progress {\n",
              "        /* gets rid of default border in Firefox and Opera. */\n",
              "        border: none;\n",
              "        /* Needs to be in here for Safari polyfill so background images work as expected. */\n",
              "        background-size: auto;\n",
              "    }\n",
              "    progress:not([value]), progress:not([value])::-webkit-progress-bar {\n",
              "        background: repeating-linear-gradient(45deg, #7e7e7e, #7e7e7e 10px, #5c5c5c 10px, #5c5c5c 20px);\n",
              "    }\n",
              "    .progress-bar-interrupted, .progress-bar-interrupted::-webkit-progress-bar {\n",
              "        background: #F44336;\n",
              "    }\n",
              "</style>\n"
            ]
          },
          "metadata": {}
        },
        {
          "output_type": "display_data",
          "data": {
            "text/plain": [
              "<IPython.core.display.HTML object>"
            ],
            "text/html": [
              "<table border=\"1\" class=\"dataframe\">\n",
              "  <thead>\n",
              "    <tr style=\"text-align: left;\">\n",
              "      <th>epoch</th>\n",
              "      <th>train_loss</th>\n",
              "      <th>valid_loss</th>\n",
              "      <th>accuracy</th>\n",
              "      <th>time</th>\n",
              "    </tr>\n",
              "  </thead>\n",
              "  <tbody>\n",
              "    <tr>\n",
              "      <td>0</td>\n",
              "      <td>0.343726</td>\n",
              "      <td>0.497003</td>\n",
              "      <td>0.808594</td>\n",
              "      <td>00:11</td>\n",
              "    </tr>\n",
              "    <tr>\n",
              "      <td>1</td>\n",
              "      <td>0.294308</td>\n",
              "      <td>0.147315</td>\n",
              "      <td>0.941406</td>\n",
              "      <td>00:10</td>\n",
              "    </tr>\n",
              "    <tr>\n",
              "      <td>2</td>\n",
              "      <td>0.263924</td>\n",
              "      <td>0.052632</td>\n",
              "      <td>0.972656</td>\n",
              "      <td>00:11</td>\n",
              "    </tr>\n",
              "    <tr>\n",
              "      <td>3</td>\n",
              "      <td>0.212227</td>\n",
              "      <td>0.421330</td>\n",
              "      <td>0.847656</td>\n",
              "      <td>00:11</td>\n",
              "    </tr>\n",
              "    <tr>\n",
              "      <td>4</td>\n",
              "      <td>0.166947</td>\n",
              "      <td>0.381839</td>\n",
              "      <td>0.914062</td>\n",
              "      <td>00:11</td>\n",
              "    </tr>\n",
              "    <tr>\n",
              "      <td>5</td>\n",
              "      <td>0.140746</td>\n",
              "      <td>0.105010</td>\n",
              "      <td>0.949219</td>\n",
              "      <td>00:11</td>\n",
              "    </tr>\n",
              "    <tr>\n",
              "      <td>6</td>\n",
              "      <td>0.134308</td>\n",
              "      <td>0.195139</td>\n",
              "      <td>0.925781</td>\n",
              "      <td>00:11</td>\n",
              "    </tr>\n",
              "    <tr>\n",
              "      <td>7</td>\n",
              "      <td>0.103446</td>\n",
              "      <td>0.227704</td>\n",
              "      <td>0.925781</td>\n",
              "      <td>00:11</td>\n",
              "    </tr>\n",
              "    <tr>\n",
              "      <td>8</td>\n",
              "      <td>0.078232</td>\n",
              "      <td>0.212285</td>\n",
              "      <td>0.925781</td>\n",
              "      <td>00:11</td>\n",
              "    </tr>\n",
              "    <tr>\n",
              "      <td>9</td>\n",
              "      <td>0.063303</td>\n",
              "      <td>0.153417</td>\n",
              "      <td>0.933594</td>\n",
              "      <td>00:11</td>\n",
              "    </tr>\n",
              "  </tbody>\n",
              "</table>"
            ]
          },
          "metadata": {}
        },
        {
          "output_type": "display_data",
          "data": {
            "text/plain": [
              "<IPython.core.display.HTML object>"
            ],
            "text/html": [
              "\n",
              "<style>\n",
              "    /* Turns off some styling */\n",
              "    progress {\n",
              "        /* gets rid of default border in Firefox and Opera. */\n",
              "        border: none;\n",
              "        /* Needs to be in here for Safari polyfill so background images work as expected. */\n",
              "        background-size: auto;\n",
              "    }\n",
              "    progress:not([value]), progress:not([value])::-webkit-progress-bar {\n",
              "        background: repeating-linear-gradient(45deg, #7e7e7e, #7e7e7e 10px, #5c5c5c 10px, #5c5c5c 20px);\n",
              "    }\n",
              "    .progress-bar-interrupted, .progress-bar-interrupted::-webkit-progress-bar {\n",
              "        background: #F44336;\n",
              "    }\n",
              "</style>\n"
            ]
          },
          "metadata": {}
        },
        {
          "output_type": "display_data",
          "data": {
            "text/plain": [
              "<IPython.core.display.HTML object>"
            ],
            "text/html": [
              "<table border=\"1\" class=\"dataframe\">\n",
              "  <thead>\n",
              "    <tr style=\"text-align: left;\">\n",
              "      <th>epoch</th>\n",
              "      <th>train_loss</th>\n",
              "      <th>valid_loss</th>\n",
              "      <th>accuracy</th>\n",
              "      <th>time</th>\n",
              "    </tr>\n",
              "  </thead>\n",
              "  <tbody>\n",
              "    <tr>\n",
              "      <td>0</td>\n",
              "      <td>0.856104</td>\n",
              "      <td>0.528964</td>\n",
              "      <td>0.835938</td>\n",
              "      <td>00:11</td>\n",
              "    </tr>\n",
              "  </tbody>\n",
              "</table>"
            ]
          },
          "metadata": {}
        },
        {
          "output_type": "display_data",
          "data": {
            "text/plain": [
              "<IPython.core.display.HTML object>"
            ],
            "text/html": [
              "\n",
              "<style>\n",
              "    /* Turns off some styling */\n",
              "    progress {\n",
              "        /* gets rid of default border in Firefox and Opera. */\n",
              "        border: none;\n",
              "        /* Needs to be in here for Safari polyfill so background images work as expected. */\n",
              "        background-size: auto;\n",
              "    }\n",
              "    progress:not([value]), progress:not([value])::-webkit-progress-bar {\n",
              "        background: repeating-linear-gradient(45deg, #7e7e7e, #7e7e7e 10px, #5c5c5c 10px, #5c5c5c 20px);\n",
              "    }\n",
              "    .progress-bar-interrupted, .progress-bar-interrupted::-webkit-progress-bar {\n",
              "        background: #F44336;\n",
              "    }\n",
              "</style>\n"
            ]
          },
          "metadata": {}
        },
        {
          "output_type": "display_data",
          "data": {
            "text/plain": [
              "<IPython.core.display.HTML object>"
            ],
            "text/html": [
              "<table border=\"1\" class=\"dataframe\">\n",
              "  <thead>\n",
              "    <tr style=\"text-align: left;\">\n",
              "      <th>epoch</th>\n",
              "      <th>train_loss</th>\n",
              "      <th>valid_loss</th>\n",
              "      <th>accuracy</th>\n",
              "      <th>time</th>\n",
              "    </tr>\n",
              "  </thead>\n",
              "  <tbody>\n",
              "    <tr>\n",
              "      <td>0</td>\n",
              "      <td>0.356820</td>\n",
              "      <td>0.251656</td>\n",
              "      <td>0.921875</td>\n",
              "      <td>00:10</td>\n",
              "    </tr>\n",
              "    <tr>\n",
              "      <td>1</td>\n",
              "      <td>0.312402</td>\n",
              "      <td>0.128878</td>\n",
              "      <td>0.957031</td>\n",
              "      <td>00:11</td>\n",
              "    </tr>\n",
              "    <tr>\n",
              "      <td>2</td>\n",
              "      <td>0.229835</td>\n",
              "      <td>0.099541</td>\n",
              "      <td>0.972656</td>\n",
              "      <td>00:11</td>\n",
              "    </tr>\n",
              "    <tr>\n",
              "      <td>3</td>\n",
              "      <td>0.199775</td>\n",
              "      <td>0.434428</td>\n",
              "      <td>0.902344</td>\n",
              "      <td>00:11</td>\n",
              "    </tr>\n",
              "    <tr>\n",
              "      <td>4</td>\n",
              "      <td>0.163041</td>\n",
              "      <td>0.301933</td>\n",
              "      <td>0.929688</td>\n",
              "      <td>00:11</td>\n",
              "    </tr>\n",
              "    <tr>\n",
              "      <td>5</td>\n",
              "      <td>0.133082</td>\n",
              "      <td>0.228617</td>\n",
              "      <td>0.914062</td>\n",
              "      <td>00:11</td>\n",
              "    </tr>\n",
              "    <tr>\n",
              "      <td>6</td>\n",
              "      <td>0.113391</td>\n",
              "      <td>0.205514</td>\n",
              "      <td>0.929688</td>\n",
              "      <td>00:11</td>\n",
              "    </tr>\n",
              "    <tr>\n",
              "      <td>7</td>\n",
              "      <td>0.096428</td>\n",
              "      <td>0.062439</td>\n",
              "      <td>0.980469</td>\n",
              "      <td>00:11</td>\n",
              "    </tr>\n",
              "    <tr>\n",
              "      <td>8</td>\n",
              "      <td>0.083110</td>\n",
              "      <td>0.065332</td>\n",
              "      <td>0.964844</td>\n",
              "      <td>00:11</td>\n",
              "    </tr>\n",
              "    <tr>\n",
              "      <td>9</td>\n",
              "      <td>0.064305</td>\n",
              "      <td>0.071279</td>\n",
              "      <td>0.968750</td>\n",
              "      <td>00:12</td>\n",
              "    </tr>\n",
              "  </tbody>\n",
              "</table>"
            ]
          },
          "metadata": {}
        }
      ]
    },
    {
      "cell_type": "code",
      "source": [
        "def get_metrics(y_actual, y_preds):\n",
        "# Compute the metrics\n",
        "  model_accuracy = accuracy_score(y_actual, y_preds)\n",
        "  f1 = f1_score(y_actual, y_preds, average='weighted')\n",
        "  precision = precision_score(y_actual, y_preds, average='weighted')\n",
        "  recall = recall_score(y_actual, y_preds, average='weighted')\n",
        "\n",
        "  return {'accuracy': model_accuracy, 'f1': f1, 'precision': precision, 'recall': recall}\n",
        "\n",
        "def get_test_accuracy(model):\n",
        "  test_path = '/content/BreastCancerPrediction/dataset_test/'\n",
        "  test_xy = split_files(1, base_path=test_path)[0]\n",
        "  x, y = [], []\n",
        "  for a, b in test_xy:\n",
        "    x.append(a)\n",
        "    y.append(b)\n",
        "  test_dl = model.dls.test_dl(x)\n",
        "  preds = model.learn.get_preds(dl=test_dl)\n",
        "  preds = preds[0].argmax(dim=1)\n",
        "  preds = [model.dls.vocab[i] for i in preds]\n",
        "  return get_metrics(y, preds), len(preds)\n",
        "\n",
        "def get_test_values(model):\n",
        "  test_path = '/content/BreastCancerPrediction/dataset_test/'\n",
        "  test_xy = split_files(1, base_path=test_path)[0]\n",
        "  x, y = [], []\n",
        "  for a, b in test_xy:\n",
        "    x.append(a)\n",
        "    y.append(b)\n",
        "  test_dl = model.dls.test_dl(x)\n",
        "  preds = model.learn.get_preds(dl=test_dl)\n",
        "  preds = preds[0].argmax(dim=1)\n",
        "  preds = [model.dls.vocab[i] for i in preds]\n",
        "  return y, preds\n",
        "\n",
        "def get_testxy():\n",
        "  test_path = '/content/BreastCancerPrediction/dataset_test/'\n",
        "  test_xy = split_files(1, base_path=test_path)[0]\n",
        "  x, y = [], []\n",
        "  for a, b in test_xy:\n",
        "    x.append(a)\n",
        "    y.append(b)\n",
        "  return x, y"
      ],
      "metadata": {
        "id": "riQeuPzKS7wX"
      },
      "execution_count": 39,
      "outputs": []
    },
    {
      "cell_type": "code",
      "source": [
        "def plot(y_actual, y_preds):\n",
        "  # Compute the confusion matrix\n",
        "  cm = confusion_matrix(y_actual, y_preds)\n",
        "\n",
        "  # Plot the confusion matrix\n",
        "  plt.figure(figsize=(10,10))\n",
        "  sns.heatmap(cm, annot=True, fmt=\".0f\", linewidths=.5, square = True, cmap = 'Blues', xticklabels=['healthy', 'unhealthy'], yticklabels=['healthy', 'unhealthy']);\n",
        "  plt.ylabel('Actual label');\n",
        "  plt.xlabel('Predicted label');\n",
        "  plt.title('Confusion Matrix', size = 15);\n",
        "  plt.show()"
      ],
      "metadata": {
        "id": "QkTUzXl0DI9S"
      },
      "execution_count": 8,
      "outputs": []
    },
    {
      "cell_type": "code",
      "source": [
        "print(get_test_accuracy(model0))\n",
        "print(get_test_accuracy(model1))\n",
        "print(get_test_accuracy(model2))\n",
        "print(get_test_accuracy(model3))"
      ],
      "metadata": {
        "id": "VsfpVGuVmQ0M",
        "outputId": "8b9756ef-8244-45f3-80e5-8bf7a2014c5a",
        "colab": {
          "base_uri": "https://localhost:8080/",
          "height": 280
        }
      },
      "execution_count": 49,
      "outputs": [
        {
          "output_type": "stream",
          "name": "stdout",
          "text": [
            "First contains 120 healthy and 120 unhealthy\n",
            "Second contains 120 healthy and 120 unhealthy\n"
          ]
        },
        {
          "output_type": "display_data",
          "data": {
            "text/plain": [
              "<IPython.core.display.HTML object>"
            ],
            "text/html": [
              "\n",
              "<style>\n",
              "    /* Turns off some styling */\n",
              "    progress {\n",
              "        /* gets rid of default border in Firefox and Opera. */\n",
              "        border: none;\n",
              "        /* Needs to be in here for Safari polyfill so background images work as expected. */\n",
              "        background-size: auto;\n",
              "    }\n",
              "    progress:not([value]), progress:not([value])::-webkit-progress-bar {\n",
              "        background: repeating-linear-gradient(45deg, #7e7e7e, #7e7e7e 10px, #5c5c5c 10px, #5c5c5c 20px);\n",
              "    }\n",
              "    .progress-bar-interrupted, .progress-bar-interrupted::-webkit-progress-bar {\n",
              "        background: #F44336;\n",
              "    }\n",
              "</style>\n"
            ]
          },
          "metadata": {}
        },
        {
          "output_type": "display_data",
          "data": {
            "text/plain": [
              "<IPython.core.display.HTML object>"
            ],
            "text/html": []
          },
          "metadata": {}
        },
        {
          "output_type": "stream",
          "name": "stdout",
          "text": [
            "({'accuracy': 0.9416666666666667, 'f1': 0.9414674935544561, 'precision': 0.9477611940298508, 'recall': 0.9416666666666667}, 240)\n",
            "First contains 120 healthy and 120 unhealthy\n",
            "Second contains 120 healthy and 120 unhealthy\n"
          ]
        },
        {
          "output_type": "display_data",
          "data": {
            "text/plain": [
              "<IPython.core.display.HTML object>"
            ],
            "text/html": [
              "\n",
              "<style>\n",
              "    /* Turns off some styling */\n",
              "    progress {\n",
              "        /* gets rid of default border in Firefox and Opera. */\n",
              "        border: none;\n",
              "        /* Needs to be in here for Safari polyfill so background images work as expected. */\n",
              "        background-size: auto;\n",
              "    }\n",
              "    progress:not([value]), progress:not([value])::-webkit-progress-bar {\n",
              "        background: repeating-linear-gradient(45deg, #7e7e7e, #7e7e7e 10px, #5c5c5c 10px, #5c5c5c 20px);\n",
              "    }\n",
              "    .progress-bar-interrupted, .progress-bar-interrupted::-webkit-progress-bar {\n",
              "        background: #F44336;\n",
              "    }\n",
              "</style>\n"
            ]
          },
          "metadata": {}
        },
        {
          "output_type": "display_data",
          "data": {
            "text/plain": [
              "<IPython.core.display.HTML object>"
            ],
            "text/html": []
          },
          "metadata": {}
        },
        {
          "output_type": "stream",
          "name": "stdout",
          "text": [
            "({'accuracy': 0.9208333333333333, 'f1': 0.9208209616085848, 'precision': 0.9210965186574943, 'recall': 0.9208333333333333}, 240)\n",
            "First contains 120 healthy and 120 unhealthy\n",
            "Second contains 120 healthy and 120 unhealthy\n"
          ]
        },
        {
          "output_type": "display_data",
          "data": {
            "text/plain": [
              "<IPython.core.display.HTML object>"
            ],
            "text/html": [
              "\n",
              "<style>\n",
              "    /* Turns off some styling */\n",
              "    progress {\n",
              "        /* gets rid of default border in Firefox and Opera. */\n",
              "        border: none;\n",
              "        /* Needs to be in here for Safari polyfill so background images work as expected. */\n",
              "        background-size: auto;\n",
              "    }\n",
              "    progress:not([value]), progress:not([value])::-webkit-progress-bar {\n",
              "        background: repeating-linear-gradient(45deg, #7e7e7e, #7e7e7e 10px, #5c5c5c 10px, #5c5c5c 20px);\n",
              "    }\n",
              "    .progress-bar-interrupted, .progress-bar-interrupted::-webkit-progress-bar {\n",
              "        background: #F44336;\n",
              "    }\n",
              "</style>\n"
            ]
          },
          "metadata": {}
        },
        {
          "output_type": "display_data",
          "data": {
            "text/plain": [
              "<IPython.core.display.HTML object>"
            ],
            "text/html": []
          },
          "metadata": {}
        },
        {
          "output_type": "stream",
          "name": "stdout",
          "text": [
            "({'accuracy': 0.9375, 'f1': 0.9372549019607843, 'precision': 0.9444444444444444, 'recall': 0.9375}, 240)\n",
            "First contains 120 healthy and 120 unhealthy\n",
            "Second contains 120 healthy and 120 unhealthy\n"
          ]
        },
        {
          "output_type": "display_data",
          "data": {
            "text/plain": [
              "<IPython.core.display.HTML object>"
            ],
            "text/html": [
              "\n",
              "<style>\n",
              "    /* Turns off some styling */\n",
              "    progress {\n",
              "        /* gets rid of default border in Firefox and Opera. */\n",
              "        border: none;\n",
              "        /* Needs to be in here for Safari polyfill so background images work as expected. */\n",
              "        background-size: auto;\n",
              "    }\n",
              "    progress:not([value]), progress:not([value])::-webkit-progress-bar {\n",
              "        background: repeating-linear-gradient(45deg, #7e7e7e, #7e7e7e 10px, #5c5c5c 10px, #5c5c5c 20px);\n",
              "    }\n",
              "    .progress-bar-interrupted, .progress-bar-interrupted::-webkit-progress-bar {\n",
              "        background: #F44336;\n",
              "    }\n",
              "</style>\n"
            ]
          },
          "metadata": {}
        },
        {
          "output_type": "display_data",
          "data": {
            "text/plain": [
              "<IPython.core.display.HTML object>"
            ],
            "text/html": []
          },
          "metadata": {}
        },
        {
          "output_type": "stream",
          "name": "stdout",
          "text": [
            "({'accuracy': 0.5, 'f1': 0.3333333333333333, 'precision': 0.25, 'recall': 0.5}, 240)\n"
          ]
        },
        {
          "output_type": "stream",
          "name": "stderr",
          "text": [
            "/usr/local/lib/python3.10/dist-packages/sklearn/metrics/_classification.py:1344: UndefinedMetricWarning: Precision is ill-defined and being set to 0.0 in labels with no predicted samples. Use `zero_division` parameter to control this behavior.\n",
            "  _warn_prf(average, modifier, msg_start, len(result))\n"
          ]
        }
      ]
    },
    {
      "cell_type": "code",
      "source": [
        "y_actual, y_preds = get_test_values(model0)\n",
        "print(get_metrics(y_actual, y_preds))\n",
        "plot(y_actual, y_preds)"
      ],
      "metadata": {
        "colab": {
          "base_uri": "https://localhost:8080/",
          "height": 859
        },
        "id": "7zveYJxLH9GW",
        "outputId": "0853ab3e-b4c8-4622-d618-80535edd78a5"
      },
      "execution_count": 10,
      "outputs": [
        {
          "output_type": "stream",
          "name": "stdout",
          "text": [
            "First contains 120 healthy and 120 unhealthy\n",
            "Second contains 120 healthy and 120 unhealthy\n"
          ]
        },
        {
          "output_type": "display_data",
          "data": {
            "text/plain": [
              "<IPython.core.display.HTML object>"
            ],
            "text/html": [
              "\n",
              "<style>\n",
              "    /* Turns off some styling */\n",
              "    progress {\n",
              "        /* gets rid of default border in Firefox and Opera. */\n",
              "        border: none;\n",
              "        /* Needs to be in here for Safari polyfill so background images work as expected. */\n",
              "        background-size: auto;\n",
              "    }\n",
              "    progress:not([value]), progress:not([value])::-webkit-progress-bar {\n",
              "        background: repeating-linear-gradient(45deg, #7e7e7e, #7e7e7e 10px, #5c5c5c 10px, #5c5c5c 20px);\n",
              "    }\n",
              "    .progress-bar-interrupted, .progress-bar-interrupted::-webkit-progress-bar {\n",
              "        background: #F44336;\n",
              "    }\n",
              "</style>\n"
            ]
          },
          "metadata": {}
        },
        {
          "output_type": "display_data",
          "data": {
            "text/plain": [
              "<IPython.core.display.HTML object>"
            ],
            "text/html": []
          },
          "metadata": {}
        },
        {
          "output_type": "stream",
          "name": "stdout",
          "text": [
            "{'accuracy': 0.9208333333333333, 'f1': 0.9205228758169935, 'precision': 0.9275132275132275, 'recall': 0.9208333333333333}\n"
          ]
        },
        {
          "output_type": "display_data",
          "data": {
            "text/plain": [
              "<Figure size 1000x1000 with 2 Axes>"
            ],
            "image/png": "[encoded data removed]"
          },
          "metadata": {}
        }
      ]
    },
    {
      "cell_type": "code",
      "source": [
        "def get_class_probs(model, path=test_path):\n",
        "  test_xy = split_files(1, base_path=path)[0]\n",
        "  x, y = [], []\n",
        "  for a, b in test_xy:\n",
        "    x.append(a)\n",
        "    y.append(b)\n",
        "  test_dl = model.dls.test_dl(x)\n",
        "  preds = model.learn.get_preds(dl=test_dl)\n",
        "  print(f\"Length of data is {len(preds[0])}\")\n",
        "  return preds, y"
      ],
      "metadata": {
        "id": "qu8XrtW7gkRo"
      },
      "execution_count": 11,
      "outputs": []
    },
    {
      "cell_type": "code",
      "source": [
        "# preds, y = get_class_probs(model0, path=train_path)"
      ],
      "metadata": {
        "colab": {
          "base_uri": "https://localhost:8080/",
          "height": 69
        },
        "id": "swYRX_bLilDA",
        "outputId": "07a46b4c-bb68-4755-b0d1-66a634f1a668"
      },
      "execution_count": null,
      "outputs": [
        {
          "output_type": "stream",
          "name": "stdout",
          "text": [
            "First contains 642 healthy and 640 unhealthy\n",
            "Second contains 642 healthy and 640 unhealthy\n"
          ]
        },
        {
          "output_type": "display_data",
          "data": {
            "text/plain": [
              "<IPython.core.display.HTML object>"
            ],
            "text/html": [
              "\n",
              "<style>\n",
              "    /* Turns off some styling */\n",
              "    progress {\n",
              "        /* gets rid of default border in Firefox and Opera. */\n",
              "        border: none;\n",
              "        /* Needs to be in here for Safari polyfill so background images work as expected. */\n",
              "        background-size: auto;\n",
              "    }\n",
              "    progress:not([value]), progress:not([value])::-webkit-progress-bar {\n",
              "        background: repeating-linear-gradient(45deg, #7e7e7e, #7e7e7e 10px, #5c5c5c 10px, #5c5c5c 20px);\n",
              "    }\n",
              "    .progress-bar-interrupted, .progress-bar-interrupted::-webkit-progress-bar {\n",
              "        background: #F44336;\n",
              "    }\n",
              "</style>\n"
            ]
          },
          "metadata": {}
        },
        {
          "output_type": "display_data",
          "data": {
            "text/plain": [
              "<IPython.core.display.HTML object>"
            ],
            "text/html": []
          },
          "metadata": {}
        },
        {
          "output_type": "stream",
          "name": "stdout",
          "text": [
            "Length of data is 1282\n"
          ]
        }
      ]
    },
    {
      "cell_type": "code",
      "source": [
        "preds2, y = get_class_probs(model1, path=train_path)"
      ],
      "metadata": {
        "colab": {
          "base_uri": "https://localhost:8080/",
          "height": 69
        },
        "id": "eRoqKPJsi9dE",
        "outputId": "8eaf907d-16dd-4aaf-de72-b4fbc2f0019f"
      },
      "execution_count": null,
      "outputs": [
        {
          "output_type": "stream",
          "name": "stdout",
          "text": [
            "First contains 642 healthy and 640 unhealthy\n",
            "Second contains 642 healthy and 640 unhealthy\n"
          ]
        },
        {
          "output_type": "display_data",
          "data": {
            "text/plain": [
              "<IPython.core.display.HTML object>"
            ],
            "text/html": [
              "\n",
              "<style>\n",
              "    /* Turns off some styling */\n",
              "    progress {\n",
              "        /* gets rid of default border in Firefox and Opera. */\n",
              "        border: none;\n",
              "        /* Needs to be in here for Safari polyfill so background images work as expected. */\n",
              "        background-size: auto;\n",
              "    }\n",
              "    progress:not([value]), progress:not([value])::-webkit-progress-bar {\n",
              "        background: repeating-linear-gradient(45deg, #7e7e7e, #7e7e7e 10px, #5c5c5c 10px, #5c5c5c 20px);\n",
              "    }\n",
              "    .progress-bar-interrupted, .progress-bar-interrupted::-webkit-progress-bar {\n",
              "        background: #F44336;\n",
              "    }\n",
              "</style>\n"
            ]
          },
          "metadata": {}
        },
        {
          "output_type": "display_data",
          "data": {
            "text/plain": [
              "<IPython.core.display.HTML object>"
            ],
            "text/html": []
          },
          "metadata": {}
        },
        {
          "output_type": "stream",
          "name": "stdout",
          "text": [
            "Length of data is 1282\n"
          ]
        }
      ]
    },
    {
      "cell_type": "code",
      "source": [
        "print(preds[0][0], preds2[0][0])"
      ],
      "metadata": {
        "colab": {
          "base_uri": "https://localhost:8080/"
        },
        "id": "T-BfoIyFjwTh",
        "outputId": "af58190d-3776-41cd-fe6f-0145582244b2"
      },
      "execution_count": null,
      "outputs": [
        {
          "output_type": "stream",
          "name": "stdout",
          "text": [
            "tensor([5.6217e-06, 9.9999e-01]) tensor([9.9906e-01, 9.3979e-04])\n"
          ]
        }
      ]
    },
    {
      "cell_type": "code",
      "source": [
        "train_preds, train_preds2 = preds[0], preds2[0]\n",
        "train_x = torch.cat((preds, preds2), dim=1)\n",
        "train_y = y\n",
        "print(len(train_x), len(train_y))"
      ],
      "metadata": {
        "colab": {
          "base_uri": "https://localhost:8080/"
        },
        "id": "Fz1rrof1j2NJ",
        "outputId": "4ea524e8-aeaa-499f-dcbe-042afea020db"
      },
      "execution_count": null,
      "outputs": [
        {
          "output_type": "stream",
          "name": "stdout",
          "text": [
            "1282 1282\n"
          ]
        }
      ]
    },
    {
      "cell_type": "code",
      "source": [
        "preds, y = get_class_probs(model0, path=test_path)\n",
        "preds2, y = get_class_probs(model1, path=test_path)\n",
        "preds, preds2 = preds[0], preds2[0]\n",
        "test_x = torch.cat((preds, preds2), dim=1)\n",
        "test_y = y\n",
        "print(len(test_x), len(test_y))"
      ],
      "metadata": {
        "colab": {
          "base_uri": "https://localhost:8080/",
          "height": 138
        },
        "id": "PaygVWE6mVDA",
        "outputId": "541e8098-892f-42db-d20e-86850aaa03e2"
      },
      "execution_count": null,
      "outputs": [
        {
          "output_type": "stream",
          "name": "stdout",
          "text": [
            "First contains 120 healthy and 120 unhealthy\n",
            "Second contains 120 healthy and 120 unhealthy\n"
          ]
        },
        {
          "output_type": "display_data",
          "data": {
            "text/plain": [
              "<IPython.core.display.HTML object>"
            ],
            "text/html": [
              "\n",
              "<style>\n",
              "    /* Turns off some styling */\n",
              "    progress {\n",
              "        /* gets rid of default border in Firefox and Opera. */\n",
              "        border: none;\n",
              "        /* Needs to be in here for Safari polyfill so background images work as expected. */\n",
              "        background-size: auto;\n",
              "    }\n",
              "    progress:not([value]), progress:not([value])::-webkit-progress-bar {\n",
              "        background: repeating-linear-gradient(45deg, #7e7e7e, #7e7e7e 10px, #5c5c5c 10px, #5c5c5c 20px);\n",
              "    }\n",
              "    .progress-bar-interrupted, .progress-bar-interrupted::-webkit-progress-bar {\n",
              "        background: #F44336;\n",
              "    }\n",
              "</style>\n"
            ]
          },
          "metadata": {}
        },
        {
          "output_type": "display_data",
          "data": {
            "text/plain": [
              "<IPython.core.display.HTML object>"
            ],
            "text/html": []
          },
          "metadata": {}
        },
        {
          "output_type": "stream",
          "name": "stdout",
          "text": [
            "Length of data is 240\n",
            "First contains 120 healthy and 120 unhealthy\n",
            "Second contains 120 healthy and 120 unhealthy\n"
          ]
        },
        {
          "output_type": "display_data",
          "data": {
            "text/plain": [
              "<IPython.core.display.HTML object>"
            ],
            "text/html": [
              "\n",
              "<style>\n",
              "    /* Turns off some styling */\n",
              "    progress {\n",
              "        /* gets rid of default border in Firefox and Opera. */\n",
              "        border: none;\n",
              "        /* Needs to be in here for Safari polyfill so background images work as expected. */\n",
              "        background-size: auto;\n",
              "    }\n",
              "    progress:not([value]), progress:not([value])::-webkit-progress-bar {\n",
              "        background: repeating-linear-gradient(45deg, #7e7e7e, #7e7e7e 10px, #5c5c5c 10px, #5c5c5c 20px);\n",
              "    }\n",
              "    .progress-bar-interrupted, .progress-bar-interrupted::-webkit-progress-bar {\n",
              "        background: #F44336;\n",
              "    }\n",
              "</style>\n"
            ]
          },
          "metadata": {}
        },
        {
          "output_type": "display_data",
          "data": {
            "text/plain": [
              "<IPython.core.display.HTML object>"
            ],
            "text/html": []
          },
          "metadata": {}
        },
        {
          "output_type": "stream",
          "name": "stdout",
          "text": [
            "Length of data is 240\n",
            "240 240\n"
          ]
        }
      ]
    },
    {
      "cell_type": "code",
      "source": [
        "labels = {'healthy': 0, 'unhealthy': 1}\n",
        "train_y = [labels[i] for i in train_y]\n",
        "test_y = [labels[i] for i in test_y]"
      ],
      "metadata": {
        "id": "H9DksXJRnCKW"
      },
      "execution_count": null,
      "outputs": []
    },
    {
      "cell_type": "code",
      "source": [
        "class ClassificationModel(nn.Module):\n",
        "    def __init__(self, input_size, hidden_size, output_size):\n",
        "        super(ClassificationModel, self).__init__()\n",
        "        self.input_size = input_size\n",
        "        self.hidden_size = hidden_size\n",
        "        self.output_size = output_size\n",
        "\n",
        "        # Define layers\n",
        "        self.fc1 = nn.Linear(input_size, hidden_size)\n",
        "        self.fc2 = nn.Linear(hidden_size, output_size)\n",
        "\n",
        "        # Define optimizer and loss function\n",
        "        self.optimizer = optim.SGD(self.parameters(), lr=0.01)\n",
        "        self.criterion = nn.CrossEntropyLoss()\n",
        "\n",
        "    def forward(self, x):\n",
        "        x = F.relu(self.fc1(x))\n",
        "        x = self.fc2(x)\n",
        "        return x\n",
        "\n",
        "    def train_model(self, train_data, train_labels, epochs=10, batch_size=32):\n",
        "        for epoch in range(epochs):\n",
        "            running_loss = 0.0\n",
        "            for i in range(0, len(train_data), batch_size):\n",
        "                inputs = train_data[i:i+batch_size]\n",
        "                labels = train_labels[i:i+batch_size]\n",
        "\n",
        "                self.optimizer.zero_grad()  # Zero the gradients\n",
        "                outputs = self(inputs)      # Forward pass\n",
        "                loss = self.criterion(outputs, labels)  # Compute the loss\n",
        "                loss.backward()             # Backward pass\n",
        "                self.optimizer.step()       # Optimize the weights\n",
        "                running_loss += loss.item()\n",
        "\n",
        "            print(f\"Epoch {epoch+1}, Loss: {running_loss / (len(train_data) / batch_size)}\")\n",
        "\n",
        "    def test_model(self, test_data, test_labels, batch_size=32):\n",
        "        correct = 0\n",
        "        total = 0\n",
        "        with torch.no_grad():\n",
        "            for i in range(0, len(test_data), batch_size):\n",
        "                inputs = test_data[i:i+batch_size]\n",
        "                labels = test_labels[i:i+batch_size]\n",
        "\n",
        "                outputs = self(inputs)\n",
        "                _, predicted = torch.max(outputs.data, 1)\n",
        "                total += labels.size(0)\n",
        "                correct += (predicted == labels).sum().item()\n",
        "\n",
        "        print(f\"Accuracy on the test set: {(100 * correct / total):.2f}%\")\n"
      ],
      "metadata": {
        "id": "FV06CG2uKkt8"
      },
      "execution_count": 12,
      "outputs": []
    },
    {
      "cell_type": "code",
      "source": [
        "class Ensemble:\n",
        "  def __init__(self, models, train_path=train_path, test_path=test_path):\n",
        "    self.models = models\n",
        "    self.train_path = train_path\n",
        "    self.test_path = test_path\n",
        "    self.ensemble_model = ClassificationModel(input_size=2*len(models), hidden_size=50, output_size=2)\n",
        "    self._generate_data()\n",
        "    self._generate_ensemble_data()\n",
        "\n",
        "  def train_ensemble(self, epochs=10):\n",
        "    self.ensemble_model.train_model(self.train_ensemble_x, self.train_y, epochs=epochs)\n",
        "\n",
        "  def get_test_accuracy(self):\n",
        "    self.ensemble_model.test_model(self.test_ensemble_x, self.test_y)\n",
        "\n",
        "  def _generate_ensemble_data(self):\n",
        "    train_ensemble_x = []\n",
        "    train_ensemble_y = []\n",
        "    test_ensemble_x = []\n",
        "    test_ensemble_y = []\n",
        "    for model in self.models:\n",
        "        print(f\"Generating train data for model {model.id}\")\n",
        "        pred_values = self._generate_single_model_data(model, train=True)\n",
        "        train_ensemble_x.append(pred_values[0])\n",
        "        print(f\"Generating test data for model {model.id}\")\n",
        "        pred_values = self._generate_single_model_data(model, train=False)\n",
        "        test_ensemble_x.append(pred_values[0])\n",
        "    # train_ensemble_x = torch.tensor(train_ensemble_x)\n",
        "    self.train_ensemble_x = torch.cat(train_ensemble_x, dim=1)\n",
        "    self.train_ensemble_y = torch.tensor(self.train_y)\n",
        "    # test_ensemble_x = torch.tensor(test_ensemble_x)\n",
        "    self.test_ensemble_x = torch.cat(test_ensemble_x, dim=1)\n",
        "    self.test_ensemble_y = torch.tensor(self.test_y)\n",
        "\n",
        "    return None\n",
        "\n",
        "  def _generate_data(self):\n",
        "    labels = {'healthy': 0, 'unhealthy': 1}\n",
        "    self.train_files = split_files(1, train_path)[0]\n",
        "    self.test_files = split_files(1, test_path)[0]\n",
        "    self.len_train = len(self.train_files)\n",
        "    self.len_test = len(self.test_files)\n",
        "    print(f\"Length of train files is {self.len_train}\")\n",
        "    print(f\"Length of test files is {self.len_test}\")\n",
        "    self.train_x = []\n",
        "    self.train_y = []\n",
        "\n",
        "    #generating and storing train X and train Y values\n",
        "    for x, y in self.train_files:\n",
        "      self.train_x.append(x)\n",
        "      self.train_y.append(labels[y])\n",
        "\n",
        "    self.test_x = []\n",
        "    self.test_y = []\n",
        "\n",
        "    #generating and storing test X and test Y values\n",
        "    for x, y in self.test_files:\n",
        "      self.test_x.append(x)\n",
        "      self.test_y.append(labels[y])\n",
        "\n",
        "    return None\n",
        "\n",
        "  def _generate_single_model_data(self, model, train=True):\n",
        "    if train:\n",
        "      data_x = self.train_x\n",
        "    else:\n",
        "      data_x = self.test_x\n",
        "\n",
        "    test_dl = model.dls.test_dl(data_x)\n",
        "    preds = model.learn.get_preds(dl=test_dl)\n",
        "    print(f\"Length of data is {len(preds[0])}\")\n",
        "\n",
        "    #return probabilities of the classes\n",
        "    return preds"
      ],
      "metadata": {
        "id": "LGi2Dk9ho_5k"
      },
      "execution_count": 25,
      "outputs": []
    },
    {
      "cell_type": "code",
      "source": [
        "def train_ensemble(models, train_path=train_path, test_path=test_path, epochs=10):\n",
        "    def generate_data(train_path, test_path):\n",
        "        labels = {'healthy': 0, 'unhealthy': 1}\n",
        "        train_files = split_files(1, train_path)[0]\n",
        "        test_files = split_files(1, test_path)[0]\n",
        "        train_x, train_y = [], []\n",
        "        for x, y in train_files:\n",
        "            train_x.append(x)\n",
        "            train_y.append(labels[y])\n",
        "        test_x, test_y = [], []\n",
        "        for x, y in test_files:\n",
        "            test_x.append(x)\n",
        "            test_y.append(labels[y])\n",
        "        return train_x, train_y, test_x, test_y\n",
        "\n",
        "    def generate_single_model_data(model, data_x):\n",
        "        test_dl = model.dls.test_dl(data_x)\n",
        "        preds = model.learn.get_preds(dl=test_dl)\n",
        "        return preds\n",
        "\n",
        "    train_x, train_y, test_x, test_y = generate_data(train_path, test_path)\n",
        "\n",
        "    train_ensemble_x = []\n",
        "    test_ensemble_x = []\n",
        "\n",
        "\n",
        "    ensemble_model = ClassificationModel(input_size=2*len(models), hidden_size=50, output_size=2)\n",
        "    ensemble_model.train_model(train_ensemble_x, train_y, epochs=epochs)\n",
        "    ensemble_model.test_model(test_ensemble_x, test_y)"
      ],
      "metadata": {
        "id": "JSbxWaFojaoc"
      },
      "execution_count": null,
      "outputs": []
    },
    {
      "cell_type": "code",
      "source": [
        "models = (model0, model1, model2)\n",
        "def generate_data(train_path, test_path):\n",
        "  labels = {'healthy': 0, 'unhealthy': 1}\n",
        "  train_files = split_files(1, train_path)[0]\n",
        "  test_files = split_files(1, test_path)[0]\n",
        "  train_x, train_y = [], []\n",
        "  for x, y in train_files:\n",
        "      train_x.append(x)\n",
        "      train_y.append(labels[y])\n",
        "  test_x, test_y = [], []\n",
        "  for x, y in test_files:\n",
        "      test_x.append(x)\n",
        "      test_y.append(labels[y])\n",
        "  return train_x, train_y, test_x, test_y\n",
        "\n",
        "train_x, train_y, test_x, test_y = generate_data(train_path, test_path)\n",
        "\n",
        "def generate_single_model_data(model, data_x):\n",
        "  test_dl = model.dls.test_dl(data_x)\n",
        "  preds = model.learn.get_preds(dl=test_dl)\n",
        "  return preds\n",
        "\n",
        "train_ensemble_x = []\n",
        "test_ensemble_x = []\n",
        "for model in models:\n",
        "  print(f\"Generating train data for model {model.id}\")\n",
        "  pred_values = generate_single_model_data(model, train_x)\n",
        "  train_ensemble_x.append(pred_values[0])\n",
        "  print(f\"Generating test data for model {model.id}\")\n",
        "  pred_values = generate_single_model_data(model, test_x)\n",
        "  test_ensemble_x.append(pred_values[0])\n",
        "\n",
        "train_ensemble_x = torch.cat(train_ensemble_x, dim=1)\n",
        "test_ensemble_x = torch.cat(test_ensemble_x, dim=1)"
      ],
      "metadata": {
        "id": "Qo0MTjhqPSKx",
        "outputId": "d3e84f0b-de54-487a-ffbf-e5154cd935d1",
        "colab": {
          "base_uri": "https://localhost:8080/",
          "height": 191
        }
      },
      "execution_count": 50,
      "outputs": [
        {
          "output_type": "stream",
          "name": "stdout",
          "text": [
            "First contains 642 healthy and 640 unhealthy\n",
            "Second contains 642 healthy and 640 unhealthy\n",
            "First contains 120 healthy and 120 unhealthy\n",
            "Second contains 120 healthy and 120 unhealthy\n",
            "Generating train data for model 0\n"
          ]
        },
        {
          "output_type": "display_data",
          "data": {
            "text/plain": [
              "<IPython.core.display.HTML object>"
            ],
            "text/html": [
              "\n",
              "<style>\n",
              "    /* Turns off some styling */\n",
              "    progress {\n",
              "        /* gets rid of default border in Firefox and Opera. */\n",
              "        border: none;\n",
              "        /* Needs to be in here for Safari polyfill so background images work as expected. */\n",
              "        background-size: auto;\n",
              "    }\n",
              "    progress:not([value]), progress:not([value])::-webkit-progress-bar {\n",
              "        background: repeating-linear-gradient(45deg, #7e7e7e, #7e7e7e 10px, #5c5c5c 10px, #5c5c5c 20px);\n",
              "    }\n",
              "    .progress-bar-interrupted, .progress-bar-interrupted::-webkit-progress-bar {\n",
              "        background: #F44336;\n",
              "    }\n",
              "</style>\n"
            ]
          },
          "metadata": {}
        },
        {
          "output_type": "display_data",
          "data": {
            "text/plain": [
              "<IPython.core.display.HTML object>"
            ],
            "text/html": []
          },
          "metadata": {}
        },
        {
          "output_type": "stream",
          "name": "stdout",
          "text": [
            "Generating test data for model 0\n"
          ]
        },
        {
          "output_type": "display_data",
          "data": {
            "text/plain": [
              "<IPython.core.display.HTML object>"
            ],
            "text/html": [
              "\n",
              "<style>\n",
              "    /* Turns off some styling */\n",
              "    progress {\n",
              "        /* gets rid of default border in Firefox and Opera. */\n",
              "        border: none;\n",
              "        /* Needs to be in here for Safari polyfill so background images work as expected. */\n",
              "        background-size: auto;\n",
              "    }\n",
              "    progress:not([value]), progress:not([value])::-webkit-progress-bar {\n",
              "        background: repeating-linear-gradient(45deg, #7e7e7e, #7e7e7e 10px, #5c5c5c 10px, #5c5c5c 20px);\n",
              "    }\n",
              "    .progress-bar-interrupted, .progress-bar-interrupted::-webkit-progress-bar {\n",
              "        background: #F44336;\n",
              "    }\n",
              "</style>\n"
            ]
          },
          "metadata": {}
        },
        {
          "output_type": "display_data",
          "data": {
            "text/plain": [
              "<IPython.core.display.HTML object>"
            ],
            "text/html": []
          },
          "metadata": {}
        },
        {
          "output_type": "stream",
          "name": "stdout",
          "text": [
            "Generating train data for model 1\n"
          ]
        },
        {
          "output_type": "display_data",
          "data": {
            "text/plain": [
              "<IPython.core.display.HTML object>"
            ],
            "text/html": [
              "\n",
              "<style>\n",
              "    /* Turns off some styling */\n",
              "    progress {\n",
              "        /* gets rid of default border in Firefox and Opera. */\n",
              "        border: none;\n",
              "        /* Needs to be in here for Safari polyfill so background images work as expected. */\n",
              "        background-size: auto;\n",
              "    }\n",
              "    progress:not([value]), progress:not([value])::-webkit-progress-bar {\n",
              "        background: repeating-linear-gradient(45deg, #7e7e7e, #7e7e7e 10px, #5c5c5c 10px, #5c5c5c 20px);\n",
              "    }\n",
              "    .progress-bar-interrupted, .progress-bar-interrupted::-webkit-progress-bar {\n",
              "        background: #F44336;\n",
              "    }\n",
              "</style>\n"
            ]
          },
          "metadata": {}
        },
        {
          "output_type": "display_data",
          "data": {
            "text/plain": [
              "<IPython.core.display.HTML object>"
            ],
            "text/html": []
          },
          "metadata": {}
        },
        {
          "output_type": "stream",
          "name": "stdout",
          "text": [
            "Generating test data for model 1\n"
          ]
        },
        {
          "output_type": "display_data",
          "data": {
            "text/plain": [
              "<IPython.core.display.HTML object>"
            ],
            "text/html": [
              "\n",
              "<style>\n",
              "    /* Turns off some styling */\n",
              "    progress {\n",
              "        /* gets rid of default border in Firefox and Opera. */\n",
              "        border: none;\n",
              "        /* Needs to be in here for Safari polyfill so background images work as expected. */\n",
              "        background-size: auto;\n",
              "    }\n",
              "    progress:not([value]), progress:not([value])::-webkit-progress-bar {\n",
              "        background: repeating-linear-gradient(45deg, #7e7e7e, #7e7e7e 10px, #5c5c5c 10px, #5c5c5c 20px);\n",
              "    }\n",
              "    .progress-bar-interrupted, .progress-bar-interrupted::-webkit-progress-bar {\n",
              "        background: #F44336;\n",
              "    }\n",
              "</style>\n"
            ]
          },
          "metadata": {}
        },
        {
          "output_type": "display_data",
          "data": {
            "text/plain": [
              "<IPython.core.display.HTML object>"
            ],
            "text/html": []
          },
          "metadata": {}
        },
        {
          "output_type": "stream",
          "name": "stdout",
          "text": [
            "Generating train data for model 2\n"
          ]
        },
        {
          "output_type": "display_data",
          "data": {
            "text/plain": [
              "<IPython.core.display.HTML object>"
            ],
            "text/html": [
              "\n",
              "<style>\n",
              "    /* Turns off some styling */\n",
              "    progress {\n",
              "        /* gets rid of default border in Firefox and Opera. */\n",
              "        border: none;\n",
              "        /* Needs to be in here for Safari polyfill so background images work as expected. */\n",
              "        background-size: auto;\n",
              "    }\n",
              "    progress:not([value]), progress:not([value])::-webkit-progress-bar {\n",
              "        background: repeating-linear-gradient(45deg, #7e7e7e, #7e7e7e 10px, #5c5c5c 10px, #5c5c5c 20px);\n",
              "    }\n",
              "    .progress-bar-interrupted, .progress-bar-interrupted::-webkit-progress-bar {\n",
              "        background: #F44336;\n",
              "    }\n",
              "</style>\n"
            ]
          },
          "metadata": {}
        },
        {
          "output_type": "display_data",
          "data": {
            "text/plain": [
              "<IPython.core.display.HTML object>"
            ],
            "text/html": []
          },
          "metadata": {}
        },
        {
          "output_type": "stream",
          "name": "stdout",
          "text": [
            "Generating test data for model 2\n"
          ]
        },
        {
          "output_type": "display_data",
          "data": {
            "text/plain": [
              "<IPython.core.display.HTML object>"
            ],
            "text/html": [
              "\n",
              "<style>\n",
              "    /* Turns off some styling */\n",
              "    progress {\n",
              "        /* gets rid of default border in Firefox and Opera. */\n",
              "        border: none;\n",
              "        /* Needs to be in here for Safari polyfill so background images work as expected. */\n",
              "        background-size: auto;\n",
              "    }\n",
              "    progress:not([value]), progress:not([value])::-webkit-progress-bar {\n",
              "        background: repeating-linear-gradient(45deg, #7e7e7e, #7e7e7e 10px, #5c5c5c 10px, #5c5c5c 20px);\n",
              "    }\n",
              "    .progress-bar-interrupted, .progress-bar-interrupted::-webkit-progress-bar {\n",
              "        background: #F44336;\n",
              "    }\n",
              "</style>\n"
            ]
          },
          "metadata": {}
        },
        {
          "output_type": "display_data",
          "data": {
            "text/plain": [
              "<IPython.core.display.HTML object>"
            ],
            "text/html": []
          },
          "metadata": {}
        }
      ]
    },
    {
      "cell_type": "code",
      "source": [
        "train_y, test_y = torch.tensor(train_y), torch.tensor(test_y)\n",
        "print(train_y)\n",
        "print(len(train_y))"
      ],
      "metadata": {
        "id": "7QVqHg7ekprN",
        "outputId": "419587bd-0ef4-4992-cd70-0a967d5e8ce3",
        "colab": {
          "base_uri": "https://localhost:8080/"
        }
      },
      "execution_count": 51,
      "outputs": [
        {
          "output_type": "stream",
          "name": "stdout",
          "text": [
            "tensor([1, 1, 0,  ..., 1, 1, 1])\n",
            "1282\n"
          ]
        }
      ]
    },
    {
      "cell_type": "code",
      "source": [
        "ensemble_model = ClassificationModel(input_size=2*len(models), hidden_size=50, output_size=2)\n",
        "ensemble_model.train_model(train_ensemble_x, train_y, epochs=10)\n",
        "ensemble_model.test_model(test_ensemble_x, test_y)"
      ],
      "metadata": {
        "id": "Wd3ObGJZkrta",
        "outputId": "90b8f72a-6a1a-4640-a861-716df0c0d641",
        "colab": {
          "base_uri": "https://localhost:8080/"
        }
      },
      "execution_count": 52,
      "outputs": [
        {
          "output_type": "stream",
          "name": "stdout",
          "text": [
            "Epoch 1, Loss: 0.5597156987361342\n",
            "Epoch 2, Loss: 0.3880470665680265\n",
            "Epoch 3, Loss: 0.27960388745978915\n",
            "Epoch 4, Loss: 0.210401499327185\n",
            "Epoch 5, Loss: 0.16584712164636337\n",
            "Epoch 6, Loss: 0.13635208937753568\n",
            "Epoch 7, Loss: 0.1158634359118719\n",
            "Epoch 8, Loss: 0.1012202273478932\n",
            "Epoch 9, Loss: 0.09033526254704516\n",
            "Epoch 10, Loss: 0.0819490775582199\n",
            "Accuracy on the test set: 95.83%\n"
          ]
        }
      ]
    }
  ],
  "metadata": {
    "kernelspec": {
      "display_name": "Python 3",
      "name": "python3"
    },
    "language_info": {
      "codemirror_mode": {
        "name": "ipython",
        "version": 3
      },
      "file_extension": ".py",
      "mimetype": "text/x-python",
      "name": "python",
      "nbconvert_exporter": "python",
      "pygments_lexer": "ipython3",
      "version": "3.9.13"
    },
    "colab": {
      "provenance": [],
      "gpuType": "T4"
    },
    "accelerator": "GPU"
  },
  "nbformat": 4,
  "nbformat_minor": 0
}