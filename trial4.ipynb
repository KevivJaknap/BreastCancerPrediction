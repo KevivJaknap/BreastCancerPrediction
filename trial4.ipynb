{
  "cells": [
    {
      "cell_type": "code",
      "execution_count": 1,
      "metadata": {
        "id": "HLuLQ38IBk6m"
      },
      "outputs": [],
      "source": [
        "import os\n",
        "from fastai.vision.all import *\n",
        "from pathlib import Path\n",
        "from PIL import Image\n",
        "import matplotlib.pyplot as plt"
      ]
    },
    {
      "cell_type": "code",
      "source": [
        "!git clone https://github.com/KevivJaknap/BreastCancerPrediction.git"
      ],
      "metadata": {
        "id": "6PDAi1zJPwg2",
        "outputId": "a186e673-6544-4eeb-b154-62768855e549",
        "colab": {
          "base_uri": "https://localhost:8080/"
        }
      },
      "execution_count": 2,
      "outputs": [
        {
          "output_type": "stream",
          "name": "stdout",
          "text": [
            "Cloning into 'BreastCancerPrediction'...\n",
            "remote: Enumerating objects: 1586, done.\u001b[K\n",
            "remote: Counting objects: 100% (3/3), done.\u001b[K\n",
            "remote: Compressing objects: 100% (3/3), done.\u001b[K\n",
            "remote: Total 1586 (delta 0), reused 2 (delta 0), pack-reused 1583\u001b[K\n",
            "Receiving objects: 100% (1586/1586), 44.20 MiB | 20.03 MiB/s, done.\n",
            "Resolving deltas: 100% (53/53), done.\n"
          ]
        }
      ]
    },
    {
      "cell_type": "code",
      "execution_count": 3,
      "metadata": {
        "id": "ivDlJhXSBk6m"
      },
      "outputs": [],
      "source": [
        "def get_labels(file_path):\n",
        "    if file_path[0] == 'N':\n",
        "        return 'healthy'\n",
        "    else:\n",
        "        return 'unhealthy'"
      ]
    },
    {
      "cell_type": "code",
      "execution_count": 4,
      "metadata": {
        "id": "EF4GjRjPBk6n"
      },
      "outputs": [],
      "source": [
        "def split_files(beta, base_path='/content/BreastCancerPrediction/dataset_train/'):\n",
        "    healthy_files = []\n",
        "    unhealthy_files = []\n",
        "    for root, dirs, files in os.walk(base_path):\n",
        "        for file in files:\n",
        "            if file.startswith('N'):\n",
        "                healthy_files.append((base_path+file, 'healthy'))\n",
        "            else:\n",
        "                unhealthy_files.append((base_path+file, 'unhealthy'))\n",
        "    len_healthy = len(healthy_files)\n",
        "    len_unhealthy = len(unhealthy_files)\n",
        "\n",
        "\n",
        "    #split into two sets\n",
        "    first = healthy_files[:] + random.sample(unhealthy_files, int(len_unhealthy*beta))\n",
        "    second = random.sample(healthy_files, int(len_healthy*beta)) + unhealthy_files[:]\n",
        "    random.shuffle(first)\n",
        "    random.shuffle(second)\n",
        "\n",
        "    print(f\"First contains {len_healthy} healthy and {len(first) - len_healthy} unhealthy\")\n",
        "    print(f\"Second contains {len(second)-len_unhealthy} healthy and {len_unhealthy} unhealthy\")\n",
        "    return first, second"
      ]
    },
    {
      "cell_type": "code",
      "execution_count": 7,
      "metadata": {
        "id": "o3dWeSmdBk6n"
      },
      "outputs": [],
      "source": [
        "base_path = '/content/BreastCancerPrediction/dataset_train/'\n",
        "class CNN:\n",
        "    def __init__(self, id, files):\n",
        "        self.id = id\n",
        "        self.files = files\n",
        "        self.dblock = DataBlock(blocks=(ImageBlock, CategoryBlock),\n",
        "                   get_x=ColReader(0),\n",
        "                   get_y=ColReader(1),\n",
        "                   splitter=RandomSplitter(),\n",
        "                   item_tfms=Resize(224),\n",
        "                   batch_tfms=aug_transforms(size=224, min_scale=0.75))\n",
        "        self.dls = self.dblock.dataloaders(self.files, bs=64)\n",
        "        self.learn = vision_learner(self.dls, resnet34, metrics=accuracy)\n",
        "\n",
        "    def train(self, epochs):\n",
        "        self.learn.fine_tune(epochs)\n",
        "\n",
        "    def show_batch(self):\n",
        "        self.dls.show_batch()\n",
        "\n",
        "    def save(self):\n",
        "        self.learn.export(f'./models/model_{self.id}.pkl')\n",
        "\n",
        "    def load(self):\n",
        "        self.learn = load_learner(f'./models/model_{self.id}.pkl')\n",
        "\n",
        "    def predict(self, file_path):\n",
        "        img = Image.open(file_path)\n",
        "        return self.learn.predict(img)\n",
        "\n",
        "    def plot(self):\n",
        "        self.learn.recorder.plot_loss()\n",
        "\n",
        "    def show_results(self):\n",
        "        self.learn.show_results()"
      ]
    },
    {
      "cell_type": "code",
      "source": [
        "files1, files2 = split_files(0.75)\n",
        "model1 = CNN(id = 1, files = files1)\n",
        "model2 = CNN(id = 2, files = files2)\n",
        "model1.train(4)\n",
        "model2.train(4)"
      ],
      "metadata": {
        "id": "E5Jbk8raQvaB",
        "outputId": "749e8fb8-9a58-4758-f8a8-3cfad17041b0",
        "colab": {
          "base_uri": "https://localhost:8080/",
          "height": 494
        }
      },
      "execution_count": 8,
      "outputs": [
        {
          "output_type": "stream",
          "name": "stdout",
          "text": [
            "First contains 642 healthy and 480 unhealthy\n",
            "Second contains 481 healthy and 640 unhealthy\n"
          ]
        },
        {
          "output_type": "display_data",
          "data": {
            "text/plain": [
              "<IPython.core.display.HTML object>"
            ],
            "text/html": [
              "\n",
              "<style>\n",
              "    /* Turns off some styling */\n",
              "    progress {\n",
              "        /* gets rid of default border in Firefox and Opera. */\n",
              "        border: none;\n",
              "        /* Needs to be in here for Safari polyfill so background images work as expected. */\n",
              "        background-size: auto;\n",
              "    }\n",
              "    progress:not([value]), progress:not([value])::-webkit-progress-bar {\n",
              "        background: repeating-linear-gradient(45deg, #7e7e7e, #7e7e7e 10px, #5c5c5c 10px, #5c5c5c 20px);\n",
              "    }\n",
              "    .progress-bar-interrupted, .progress-bar-interrupted::-webkit-progress-bar {\n",
              "        background: #F44336;\n",
              "    }\n",
              "</style>\n"
            ]
          },
          "metadata": {}
        },
        {
          "output_type": "display_data",
          "data": {
            "text/plain": [
              "<IPython.core.display.HTML object>"
            ],
            "text/html": [
              "<table border=\"1\" class=\"dataframe\">\n",
              "  <thead>\n",
              "    <tr style=\"text-align: left;\">\n",
              "      <th>epoch</th>\n",
              "      <th>train_loss</th>\n",
              "      <th>valid_loss</th>\n",
              "      <th>accuracy</th>\n",
              "      <th>time</th>\n",
              "    </tr>\n",
              "  </thead>\n",
              "  <tbody>\n",
              "    <tr>\n",
              "      <td>0</td>\n",
              "      <td>0.849182</td>\n",
              "      <td>0.332803</td>\n",
              "      <td>0.861607</td>\n",
              "      <td>00:08</td>\n",
              "    </tr>\n",
              "  </tbody>\n",
              "</table>"
            ]
          },
          "metadata": {}
        },
        {
          "output_type": "display_data",
          "data": {
            "text/plain": [
              "<IPython.core.display.HTML object>"
            ],
            "text/html": [
              "\n",
              "<style>\n",
              "    /* Turns off some styling */\n",
              "    progress {\n",
              "        /* gets rid of default border in Firefox and Opera. */\n",
              "        border: none;\n",
              "        /* Needs to be in here for Safari polyfill so background images work as expected. */\n",
              "        background-size: auto;\n",
              "    }\n",
              "    progress:not([value]), progress:not([value])::-webkit-progress-bar {\n",
              "        background: repeating-linear-gradient(45deg, #7e7e7e, #7e7e7e 10px, #5c5c5c 10px, #5c5c5c 20px);\n",
              "    }\n",
              "    .progress-bar-interrupted, .progress-bar-interrupted::-webkit-progress-bar {\n",
              "        background: #F44336;\n",
              "    }\n",
              "</style>\n"
            ]
          },
          "metadata": {}
        },
        {
          "output_type": "display_data",
          "data": {
            "text/plain": [
              "<IPython.core.display.HTML object>"
            ],
            "text/html": [
              "<table border=\"1\" class=\"dataframe\">\n",
              "  <thead>\n",
              "    <tr style=\"text-align: left;\">\n",
              "      <th>epoch</th>\n",
              "      <th>train_loss</th>\n",
              "      <th>valid_loss</th>\n",
              "      <th>accuracy</th>\n",
              "      <th>time</th>\n",
              "    </tr>\n",
              "  </thead>\n",
              "  <tbody>\n",
              "    <tr>\n",
              "      <td>0</td>\n",
              "      <td>0.410765</td>\n",
              "      <td>0.312025</td>\n",
              "      <td>0.879464</td>\n",
              "      <td>00:08</td>\n",
              "    </tr>\n",
              "    <tr>\n",
              "      <td>1</td>\n",
              "      <td>0.286168</td>\n",
              "      <td>0.233743</td>\n",
              "      <td>0.910714</td>\n",
              "      <td>00:09</td>\n",
              "    </tr>\n",
              "    <tr>\n",
              "      <td>2</td>\n",
              "      <td>0.235682</td>\n",
              "      <td>0.040272</td>\n",
              "      <td>0.977679</td>\n",
              "      <td>00:09</td>\n",
              "    </tr>\n",
              "    <tr>\n",
              "      <td>3</td>\n",
              "      <td>0.198402</td>\n",
              "      <td>0.021899</td>\n",
              "      <td>0.991071</td>\n",
              "      <td>00:08</td>\n",
              "    </tr>\n",
              "  </tbody>\n",
              "</table>"
            ]
          },
          "metadata": {}
        },
        {
          "output_type": "display_data",
          "data": {
            "text/plain": [
              "<IPython.core.display.HTML object>"
            ],
            "text/html": [
              "\n",
              "<style>\n",
              "    /* Turns off some styling */\n",
              "    progress {\n",
              "        /* gets rid of default border in Firefox and Opera. */\n",
              "        border: none;\n",
              "        /* Needs to be in here for Safari polyfill so background images work as expected. */\n",
              "        background-size: auto;\n",
              "    }\n",
              "    progress:not([value]), progress:not([value])::-webkit-progress-bar {\n",
              "        background: repeating-linear-gradient(45deg, #7e7e7e, #7e7e7e 10px, #5c5c5c 10px, #5c5c5c 20px);\n",
              "    }\n",
              "    .progress-bar-interrupted, .progress-bar-interrupted::-webkit-progress-bar {\n",
              "        background: #F44336;\n",
              "    }\n",
              "</style>\n"
            ]
          },
          "metadata": {}
        },
        {
          "output_type": "display_data",
          "data": {
            "text/plain": [
              "<IPython.core.display.HTML object>"
            ],
            "text/html": [
              "<table border=\"1\" class=\"dataframe\">\n",
              "  <thead>\n",
              "    <tr style=\"text-align: left;\">\n",
              "      <th>epoch</th>\n",
              "      <th>train_loss</th>\n",
              "      <th>valid_loss</th>\n",
              "      <th>accuracy</th>\n",
              "      <th>time</th>\n",
              "    </tr>\n",
              "  </thead>\n",
              "  <tbody>\n",
              "    <tr>\n",
              "      <td>0</td>\n",
              "      <td>0.857101</td>\n",
              "      <td>0.649526</td>\n",
              "      <td>0.750000</td>\n",
              "      <td>00:08</td>\n",
              "    </tr>\n",
              "  </tbody>\n",
              "</table>"
            ]
          },
          "metadata": {}
        },
        {
          "output_type": "display_data",
          "data": {
            "text/plain": [
              "<IPython.core.display.HTML object>"
            ],
            "text/html": [
              "\n",
              "<style>\n",
              "    /* Turns off some styling */\n",
              "    progress {\n",
              "        /* gets rid of default border in Firefox and Opera. */\n",
              "        border: none;\n",
              "        /* Needs to be in here for Safari polyfill so background images work as expected. */\n",
              "        background-size: auto;\n",
              "    }\n",
              "    progress:not([value]), progress:not([value])::-webkit-progress-bar {\n",
              "        background: repeating-linear-gradient(45deg, #7e7e7e, #7e7e7e 10px, #5c5c5c 10px, #5c5c5c 20px);\n",
              "    }\n",
              "    .progress-bar-interrupted, .progress-bar-interrupted::-webkit-progress-bar {\n",
              "        background: #F44336;\n",
              "    }\n",
              "</style>\n"
            ]
          },
          "metadata": {}
        },
        {
          "output_type": "display_data",
          "data": {
            "text/plain": [
              "<IPython.core.display.HTML object>"
            ],
            "text/html": [
              "<table border=\"1\" class=\"dataframe\">\n",
              "  <thead>\n",
              "    <tr style=\"text-align: left;\">\n",
              "      <th>epoch</th>\n",
              "      <th>train_loss</th>\n",
              "      <th>valid_loss</th>\n",
              "      <th>accuracy</th>\n",
              "      <th>time</th>\n",
              "    </tr>\n",
              "  </thead>\n",
              "  <tbody>\n",
              "    <tr>\n",
              "      <td>0</td>\n",
              "      <td>0.455280</td>\n",
              "      <td>0.173440</td>\n",
              "      <td>0.928571</td>\n",
              "      <td>00:09</td>\n",
              "    </tr>\n",
              "    <tr>\n",
              "      <td>1</td>\n",
              "      <td>0.398415</td>\n",
              "      <td>0.107340</td>\n",
              "      <td>0.964286</td>\n",
              "      <td>00:09</td>\n",
              "    </tr>\n",
              "    <tr>\n",
              "      <td>2</td>\n",
              "      <td>0.294491</td>\n",
              "      <td>0.026237</td>\n",
              "      <td>0.991071</td>\n",
              "      <td>00:09</td>\n",
              "    </tr>\n",
              "    <tr>\n",
              "      <td>3</td>\n",
              "      <td>0.229959</td>\n",
              "      <td>0.024031</td>\n",
              "      <td>0.995536</td>\n",
              "      <td>00:09</td>\n",
              "    </tr>\n",
              "  </tbody>\n",
              "</table>"
            ]
          },
          "metadata": {}
        }
      ]
    },
    {
      "cell_type": "code",
      "source": [
        "def get_test_accuracy(model):\n",
        "  test_path = '/content/BreastCancerPrediction/dataset_test'\n",
        "  test_xy = split_files(1, base_path=test_path)\n",
        "  x, y = [], []\n",
        "  for a, b in test_xy:\n",
        "    x.append(a)\n",
        "    y.append(b)\n",
        "  test_dl = model.dls.test_dl(x)\n",
        "  preds = model.learn.get_preds(dl=test_dl)\n",
        "  preds = preds[0].argmax(dim=1)\n",
        "  preds = [model.dls.vocab[i] for i in preds]\n",
        ""
      ],
      "metadata": {
        "id": "riQeuPzKS7wX"
      },
      "execution_count": null,
      "outputs": []
    },
    {
      "cell_type": "code",
      "source": [
        "from fastai.callback.hook import *\n",
        "\n",
        "# Define a hook function\n",
        "def hook_fn(m, i, o): return o.detach().clone()\n",
        "\n",
        "# Register the hook on the last layer\n",
        "hook_output = Hook(learn.model[-1], hook_fn, is_forward=True)\n",
        "\n",
        "# Get some input data\n",
        "x, = first(dls.valid)\n",
        "\n",
        "# Get the outputs of the last layer (logits)\n",
        "with torch.no_grad():\n",
        "    outputs = learn.model.eval()(x)\n",
        "\n",
        "# Get the logits from the hooked layer\n",
        "logits = hook_output.storedbb"
      ],
      "metadata": {
        "id": "7A7c_LmKRKzH"
      },
      "execution_count": null,
      "outputs": []
    }
  ],
  "metadata": {
    "kernelspec": {
      "display_name": "Python 3",
      "name": "python3"
    },
    "language_info": {
      "codemirror_mode": {
        "name": "ipython",
        "version": 3
      },
      "file_extension": ".py",
      "mimetype": "text/x-python",
      "name": "python",
      "nbconvert_exporter": "python",
      "pygments_lexer": "ipython3",
      "version": "3.9.13"
    },
    "colab": {
      "provenance": [],
      "gpuType": "T4"
    },
    "accelerator": "GPU"
  },
  "nbformat": 4,
  "nbformat_minor": 0
}