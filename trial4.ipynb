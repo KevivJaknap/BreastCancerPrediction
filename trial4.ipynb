{
  "cells": [
    {
      "cell_type": "code",
      "execution_count": 38,
      "metadata": {
        "id": "HLuLQ38IBk6m"
      },
      "outputs": [],
      "source": [
        "import os\n",
        "from fastai.vision.all import *\n",
        "from pathlib import Path\n",
        "from PIL import Image\n",
        "import matplotlib.pyplot as plt\n",
        "from sklearn.metrics import confusion_matrix\n",
        "import matplotlib.pyplot as plt\n",
        "import seaborn as sns\n",
        "from sklearn.metrics import accuracy_score, f1_score, precision_score, recall_score"
      ]
    },
    {
      "cell_type": "code",
      "source": [
        "!git clone https://github.com/KevivJaknap/BreastCancerPrediction.git"
      ],
      "metadata": {
        "id": "6PDAi1zJPwg2",
        "outputId": "c91b70b9-245a-43a5-fbe0-fa977d82633c",
        "colab": {
          "base_uri": "https://localhost:8080/"
        }
      },
      "execution_count": 2,
      "outputs": [
        {
          "output_type": "stream",
          "name": "stdout",
          "text": [
            "Cloning into 'BreastCancerPrediction'...\n",
            "remote: Enumerating objects: 1589, done.\u001b[K\n",
            "remote: Counting objects: 100% (6/6), done.\u001b[K\n",
            "remote: Compressing objects: 100% (6/6), done.\u001b[K\n",
            "remote: Total 1589 (delta 1), reused 2 (delta 0), pack-reused 1583\u001b[K\n",
            "Receiving objects: 100% (1589/1589), 44.20 MiB | 27.02 MiB/s, done.\n",
            "Resolving deltas: 100% (54/54), done.\n"
          ]
        }
      ]
    },
    {
      "cell_type": "code",
      "execution_count": 3,
      "metadata": {
        "id": "ivDlJhXSBk6m"
      },
      "outputs": [],
      "source": [
        "def get_labels(file_path):\n",
        "    if file_path[0] == 'N':\n",
        "        return 'healthy'\n",
        "    else:\n",
        "        return 'unhealthy'"
      ]
    },
    {
      "cell_type": "code",
      "execution_count": 4,
      "metadata": {
        "id": "EF4GjRjPBk6n"
      },
      "outputs": [],
      "source": [
        "def split_files(beta, base_path='/content/BreastCancerPrediction/dataset_train/'):\n",
        "    healthy_files = []\n",
        "    unhealthy_files = []\n",
        "    for root, dirs, files in os.walk(base_path):\n",
        "        for file in files:\n",
        "            if file.startswith('N'):\n",
        "                healthy_files.append((base_path+file, 'healthy'))\n",
        "            else:\n",
        "                unhealthy_files.append((base_path+file, 'unhealthy'))\n",
        "    len_healthy = len(healthy_files)\n",
        "    len_unhealthy = len(unhealthy_files)\n",
        "\n",
        "\n",
        "    #split into two sets\n",
        "    first = healthy_files[:] + random.sample(unhealthy_files, int(len_unhealthy*beta))\n",
        "    second = random.sample(healthy_files, int(len_healthy*beta)) + unhealthy_files[:]\n",
        "    random.shuffle(first)\n",
        "    random.shuffle(second)\n",
        "\n",
        "    print(f\"First contains {len_healthy} healthy and {len(first) - len_healthy} unhealthy\")\n",
        "    print(f\"Second contains {len(second)-len_unhealthy} healthy and {len_unhealthy} unhealthy\")\n",
        "    return first, second"
      ]
    },
    {
      "cell_type": "code",
      "execution_count": 5,
      "metadata": {
        "id": "o3dWeSmdBk6n"
      },
      "outputs": [],
      "source": [
        "base_path = '/content/BreastCancerPrediction/dataset_train/'\n",
        "class CNN:\n",
        "    def __init__(self, id, files):\n",
        "        self.id = id\n",
        "        self.files = files\n",
        "        self.dblock = DataBlock(blocks=(ImageBlock, CategoryBlock),\n",
        "                   get_x=ColReader(0),\n",
        "                   get_y=ColReader(1),\n",
        "                   splitter=RandomSplitter(),\n",
        "                   item_tfms=Resize(224),\n",
        "                   batch_tfms=aug_transforms(size=224, min_scale=0.75))\n",
        "        self.dls = self.dblock.dataloaders(self.files, bs=64)\n",
        "        self.learn = vision_learner(self.dls, resnet34, metrics=accuracy)\n",
        "\n",
        "    def train(self, epochs):\n",
        "        self.learn.fine_tune(epochs)\n",
        "\n",
        "    def show_batch(self):\n",
        "        self.dls.show_batch()\n",
        "\n",
        "    def save(self):\n",
        "        self.learn.export(f'./models/model_{self.id}.pkl')\n",
        "\n",
        "    def load(self):\n",
        "        self.learn = load_learner(f'./models/model_{self.id}.pkl')\n",
        "\n",
        "    def predict(self, file_path):\n",
        "        img = Image.open(file_path)\n",
        "        return self.learn.predict(img)\n",
        "\n",
        "    def plot(self):\n",
        "        self.learn.recorder.plot_loss()\n",
        "\n",
        "    def show_results(self):\n",
        "        self.learn.show_results()"
      ]
    },
    {
      "cell_type": "code",
      "source": [
        "files1, files2 = split_files(0.75)\n",
        "files0 = split_files(1)[0]\n",
        "model0 = CNN(id = 0, files = files0)\n",
        "model1 = CNN(id = 1, files = files1)\n",
        "model2 = CNN(id = 2, files = files2)\n",
        "model0.train(4)\n",
        "model1.train(4)\n",
        "model2.train(4)"
      ],
      "metadata": {
        "id": "E5Jbk8raQvaB",
        "outputId": "202fd7a8-79ba-44a8-b406-629e2d39d49c",
        "colab": {
          "base_uri": "https://localhost:8080/",
          "height": 784
        }
      },
      "execution_count": 7,
      "outputs": [
        {
          "output_type": "stream",
          "name": "stdout",
          "text": [
            "First contains 642 healthy and 480 unhealthy\n",
            "Second contains 481 healthy and 640 unhealthy\n",
            "First contains 642 healthy and 640 unhealthy\n",
            "Second contains 642 healthy and 640 unhealthy\n"
          ]
        },
        {
          "output_type": "stream",
          "name": "stderr",
          "text": [
            "Downloading: \"https://download.pytorch.org/models/resnet34-b627a593.pth\" to /root/.cache/torch/hub/checkpoints/resnet34-b627a593.pth\n",
            "100%|██████████| 83.3M/83.3M [00:00<00:00, 93.2MB/s]\n"
          ]
        },
        {
          "output_type": "display_data",
          "data": {
            "text/plain": [
              "<IPython.core.display.HTML object>"
            ],
            "text/html": [
              "\n",
              "<style>\n",
              "    /* Turns off some styling */\n",
              "    progress {\n",
              "        /* gets rid of default border in Firefox and Opera. */\n",
              "        border: none;\n",
              "        /* Needs to be in here for Safari polyfill so background images work as expected. */\n",
              "        background-size: auto;\n",
              "    }\n",
              "    progress:not([value]), progress:not([value])::-webkit-progress-bar {\n",
              "        background: repeating-linear-gradient(45deg, #7e7e7e, #7e7e7e 10px, #5c5c5c 10px, #5c5c5c 20px);\n",
              "    }\n",
              "    .progress-bar-interrupted, .progress-bar-interrupted::-webkit-progress-bar {\n",
              "        background: #F44336;\n",
              "    }\n",
              "</style>\n"
            ]
          },
          "metadata": {}
        },
        {
          "output_type": "display_data",
          "data": {
            "text/plain": [
              "<IPython.core.display.HTML object>"
            ],
            "text/html": [
              "<table border=\"1\" class=\"dataframe\">\n",
              "  <thead>\n",
              "    <tr style=\"text-align: left;\">\n",
              "      <th>epoch</th>\n",
              "      <th>train_loss</th>\n",
              "      <th>valid_loss</th>\n",
              "      <th>accuracy</th>\n",
              "      <th>time</th>\n",
              "    </tr>\n",
              "  </thead>\n",
              "  <tbody>\n",
              "    <tr>\n",
              "      <td>0</td>\n",
              "      <td>0.845481</td>\n",
              "      <td>0.318901</td>\n",
              "      <td>0.878906</td>\n",
              "      <td>00:12</td>\n",
              "    </tr>\n",
              "  </tbody>\n",
              "</table>"
            ]
          },
          "metadata": {}
        },
        {
          "output_type": "display_data",
          "data": {
            "text/plain": [
              "<IPython.core.display.HTML object>"
            ],
            "text/html": [
              "\n",
              "<style>\n",
              "    /* Turns off some styling */\n",
              "    progress {\n",
              "        /* gets rid of default border in Firefox and Opera. */\n",
              "        border: none;\n",
              "        /* Needs to be in here for Safari polyfill so background images work as expected. */\n",
              "        background-size: auto;\n",
              "    }\n",
              "    progress:not([value]), progress:not([value])::-webkit-progress-bar {\n",
              "        background: repeating-linear-gradient(45deg, #7e7e7e, #7e7e7e 10px, #5c5c5c 10px, #5c5c5c 20px);\n",
              "    }\n",
              "    .progress-bar-interrupted, .progress-bar-interrupted::-webkit-progress-bar {\n",
              "        background: #F44336;\n",
              "    }\n",
              "</style>\n"
            ]
          },
          "metadata": {}
        },
        {
          "output_type": "display_data",
          "data": {
            "text/plain": [
              "<IPython.core.display.HTML object>"
            ],
            "text/html": [
              "<table border=\"1\" class=\"dataframe\">\n",
              "  <thead>\n",
              "    <tr style=\"text-align: left;\">\n",
              "      <th>epoch</th>\n",
              "      <th>train_loss</th>\n",
              "      <th>valid_loss</th>\n",
              "      <th>accuracy</th>\n",
              "      <th>time</th>\n",
              "    </tr>\n",
              "  </thead>\n",
              "  <tbody>\n",
              "    <tr>\n",
              "      <td>0</td>\n",
              "      <td>0.370246</td>\n",
              "      <td>0.228788</td>\n",
              "      <td>0.902344</td>\n",
              "      <td>00:12</td>\n",
              "    </tr>\n",
              "    <tr>\n",
              "      <td>1</td>\n",
              "      <td>0.300383</td>\n",
              "      <td>0.159483</td>\n",
              "      <td>0.968750</td>\n",
              "      <td>00:13</td>\n",
              "    </tr>\n",
              "    <tr>\n",
              "      <td>2</td>\n",
              "      <td>0.235977</td>\n",
              "      <td>0.147221</td>\n",
              "      <td>0.976562</td>\n",
              "      <td>00:16</td>\n",
              "    </tr>\n",
              "    <tr>\n",
              "      <td>3</td>\n",
              "      <td>0.189589</td>\n",
              "      <td>0.143518</td>\n",
              "      <td>0.972656</td>\n",
              "      <td>00:12</td>\n",
              "    </tr>\n",
              "  </tbody>\n",
              "</table>"
            ]
          },
          "metadata": {}
        },
        {
          "output_type": "display_data",
          "data": {
            "text/plain": [
              "<IPython.core.display.HTML object>"
            ],
            "text/html": [
              "\n",
              "<style>\n",
              "    /* Turns off some styling */\n",
              "    progress {\n",
              "        /* gets rid of default border in Firefox and Opera. */\n",
              "        border: none;\n",
              "        /* Needs to be in here for Safari polyfill so background images work as expected. */\n",
              "        background-size: auto;\n",
              "    }\n",
              "    progress:not([value]), progress:not([value])::-webkit-progress-bar {\n",
              "        background: repeating-linear-gradient(45deg, #7e7e7e, #7e7e7e 10px, #5c5c5c 10px, #5c5c5c 20px);\n",
              "    }\n",
              "    .progress-bar-interrupted, .progress-bar-interrupted::-webkit-progress-bar {\n",
              "        background: #F44336;\n",
              "    }\n",
              "</style>\n"
            ]
          },
          "metadata": {}
        },
        {
          "output_type": "display_data",
          "data": {
            "text/plain": [
              "<IPython.core.display.HTML object>"
            ],
            "text/html": [
              "<table border=\"1\" class=\"dataframe\">\n",
              "  <thead>\n",
              "    <tr style=\"text-align: left;\">\n",
              "      <th>epoch</th>\n",
              "      <th>train_loss</th>\n",
              "      <th>valid_loss</th>\n",
              "      <th>accuracy</th>\n",
              "      <th>time</th>\n",
              "    </tr>\n",
              "  </thead>\n",
              "  <tbody>\n",
              "    <tr>\n",
              "      <td>0</td>\n",
              "      <td>0.839992</td>\n",
              "      <td>0.811414</td>\n",
              "      <td>0.758929</td>\n",
              "      <td>00:10</td>\n",
              "    </tr>\n",
              "  </tbody>\n",
              "</table>"
            ]
          },
          "metadata": {}
        },
        {
          "output_type": "display_data",
          "data": {
            "text/plain": [
              "<IPython.core.display.HTML object>"
            ],
            "text/html": [
              "\n",
              "<style>\n",
              "    /* Turns off some styling */\n",
              "    progress {\n",
              "        /* gets rid of default border in Firefox and Opera. */\n",
              "        border: none;\n",
              "        /* Needs to be in here for Safari polyfill so background images work as expected. */\n",
              "        background-size: auto;\n",
              "    }\n",
              "    progress:not([value]), progress:not([value])::-webkit-progress-bar {\n",
              "        background: repeating-linear-gradient(45deg, #7e7e7e, #7e7e7e 10px, #5c5c5c 10px, #5c5c5c 20px);\n",
              "    }\n",
              "    .progress-bar-interrupted, .progress-bar-interrupted::-webkit-progress-bar {\n",
              "        background: #F44336;\n",
              "    }\n",
              "</style>\n"
            ]
          },
          "metadata": {}
        },
        {
          "output_type": "display_data",
          "data": {
            "text/plain": [
              "<IPython.core.display.HTML object>"
            ],
            "text/html": [
              "<table border=\"1\" class=\"dataframe\">\n",
              "  <thead>\n",
              "    <tr style=\"text-align: left;\">\n",
              "      <th>epoch</th>\n",
              "      <th>train_loss</th>\n",
              "      <th>valid_loss</th>\n",
              "      <th>accuracy</th>\n",
              "      <th>time</th>\n",
              "    </tr>\n",
              "  </thead>\n",
              "  <tbody>\n",
              "    <tr>\n",
              "      <td>0</td>\n",
              "      <td>0.352411</td>\n",
              "      <td>0.588690</td>\n",
              "      <td>0.763393</td>\n",
              "      <td>00:10</td>\n",
              "    </tr>\n",
              "    <tr>\n",
              "      <td>1</td>\n",
              "      <td>0.274676</td>\n",
              "      <td>0.124703</td>\n",
              "      <td>0.937500</td>\n",
              "      <td>00:10</td>\n",
              "    </tr>\n",
              "    <tr>\n",
              "      <td>2</td>\n",
              "      <td>0.230346</td>\n",
              "      <td>0.089511</td>\n",
              "      <td>0.950893</td>\n",
              "      <td>00:10</td>\n",
              "    </tr>\n",
              "    <tr>\n",
              "      <td>3</td>\n",
              "      <td>0.199928</td>\n",
              "      <td>0.067790</td>\n",
              "      <td>0.964286</td>\n",
              "      <td>00:10</td>\n",
              "    </tr>\n",
              "  </tbody>\n",
              "</table>"
            ]
          },
          "metadata": {}
        },
        {
          "output_type": "display_data",
          "data": {
            "text/plain": [
              "<IPython.core.display.HTML object>"
            ],
            "text/html": [
              "\n",
              "<style>\n",
              "    /* Turns off some styling */\n",
              "    progress {\n",
              "        /* gets rid of default border in Firefox and Opera. */\n",
              "        border: none;\n",
              "        /* Needs to be in here for Safari polyfill so background images work as expected. */\n",
              "        background-size: auto;\n",
              "    }\n",
              "    progress:not([value]), progress:not([value])::-webkit-progress-bar {\n",
              "        background: repeating-linear-gradient(45deg, #7e7e7e, #7e7e7e 10px, #5c5c5c 10px, #5c5c5c 20px);\n",
              "    }\n",
              "    .progress-bar-interrupted, .progress-bar-interrupted::-webkit-progress-bar {\n",
              "        background: #F44336;\n",
              "    }\n",
              "</style>\n"
            ]
          },
          "metadata": {}
        },
        {
          "output_type": "display_data",
          "data": {
            "text/plain": [
              "<IPython.core.display.HTML object>"
            ],
            "text/html": [
              "<table border=\"1\" class=\"dataframe\">\n",
              "  <thead>\n",
              "    <tr style=\"text-align: left;\">\n",
              "      <th>epoch</th>\n",
              "      <th>train_loss</th>\n",
              "      <th>valid_loss</th>\n",
              "      <th>accuracy</th>\n",
              "      <th>time</th>\n",
              "    </tr>\n",
              "  </thead>\n",
              "  <tbody>\n",
              "    <tr>\n",
              "      <td>0</td>\n",
              "      <td>0.883705</td>\n",
              "      <td>0.323405</td>\n",
              "      <td>0.861607</td>\n",
              "      <td>00:10</td>\n",
              "    </tr>\n",
              "  </tbody>\n",
              "</table>"
            ]
          },
          "metadata": {}
        },
        {
          "output_type": "display_data",
          "data": {
            "text/plain": [
              "<IPython.core.display.HTML object>"
            ],
            "text/html": [
              "\n",
              "<style>\n",
              "    /* Turns off some styling */\n",
              "    progress {\n",
              "        /* gets rid of default border in Firefox and Opera. */\n",
              "        border: none;\n",
              "        /* Needs to be in here for Safari polyfill so background images work as expected. */\n",
              "        background-size: auto;\n",
              "    }\n",
              "    progress:not([value]), progress:not([value])::-webkit-progress-bar {\n",
              "        background: repeating-linear-gradient(45deg, #7e7e7e, #7e7e7e 10px, #5c5c5c 10px, #5c5c5c 20px);\n",
              "    }\n",
              "    .progress-bar-interrupted, .progress-bar-interrupted::-webkit-progress-bar {\n",
              "        background: #F44336;\n",
              "    }\n",
              "</style>\n"
            ]
          },
          "metadata": {}
        },
        {
          "output_type": "display_data",
          "data": {
            "text/plain": [
              "<IPython.core.display.HTML object>"
            ],
            "text/html": [
              "<table border=\"1\" class=\"dataframe\">\n",
              "  <thead>\n",
              "    <tr style=\"text-align: left;\">\n",
              "      <th>epoch</th>\n",
              "      <th>train_loss</th>\n",
              "      <th>valid_loss</th>\n",
              "      <th>accuracy</th>\n",
              "      <th>time</th>\n",
              "    </tr>\n",
              "  </thead>\n",
              "  <tbody>\n",
              "    <tr>\n",
              "      <td>0</td>\n",
              "      <td>0.430045</td>\n",
              "      <td>0.201927</td>\n",
              "      <td>0.915179</td>\n",
              "      <td>00:13</td>\n",
              "    </tr>\n",
              "    <tr>\n",
              "      <td>1</td>\n",
              "      <td>0.346144</td>\n",
              "      <td>0.999939</td>\n",
              "      <td>0.776786</td>\n",
              "      <td>00:10</td>\n",
              "    </tr>\n",
              "    <tr>\n",
              "      <td>2</td>\n",
              "      <td>0.263755</td>\n",
              "      <td>0.114556</td>\n",
              "      <td>0.959821</td>\n",
              "      <td>00:11</td>\n",
              "    </tr>\n",
              "    <tr>\n",
              "      <td>3</td>\n",
              "      <td>0.208128</td>\n",
              "      <td>0.178834</td>\n",
              "      <td>0.946429</td>\n",
              "      <td>00:11</td>\n",
              "    </tr>\n",
              "  </tbody>\n",
              "</table>"
            ]
          },
          "metadata": {}
        }
      ]
    },
    {
      "cell_type": "code",
      "source": [
        "def accuracy(iter1, iter2):\n",
        "  if len(iter1) != len(iter2):\n",
        "    return None\n",
        "  count = 0\n",
        "  for i in range(len(iter1)):\n",
        "    if iter1[i] == iter2[i]:\n",
        "      count += 1\n",
        "\n",
        "  return count*100/len(iter1)\n",
        "def get_test_accuracy(model):\n",
        "  test_path = '/content/BreastCancerPrediction/dataset_test/'\n",
        "  test_xy = split_files(1, base_path=test_path)[0]\n",
        "  x, y = [], []\n",
        "  for a, b in test_xy:\n",
        "    x.append(a)\n",
        "    y.append(b)\n",
        "  test_dl = model.dls.test_dl(x)\n",
        "  preds = model.learn.get_preds(dl=test_dl)\n",
        "  preds = preds[0].argmax(dim=1)\n",
        "  preds = [model.dls.vocab[i] for i in preds]\n",
        "  return accuracy(preds, y), len(preds)\n",
        "\n",
        "def get_test_values(model):\n",
        "  test_path = '/content/BreastCancerPrediction/dataset_test/'\n",
        "  test_xy = split_files(1, base_path=test_path)[0]\n",
        "  x, y = [], []\n",
        "  for a, b in test_xy:\n",
        "    x.append(a)\n",
        "    y.append(b)\n",
        "  test_dl = model.dls.test_dl(x)\n",
        "  preds = model.learn.get_preds(dl=test_dl)\n",
        "  preds = preds[0].argmax(dim=1)\n",
        "  preds = [model.dls.vocab[i] for i in preds]\n",
        "  return y, preds\n"
      ],
      "metadata": {
        "id": "riQeuPzKS7wX"
      },
      "execution_count": 29,
      "outputs": []
    },
    {
      "cell_type": "code",
      "source": [
        "def plot(y_actual, y_preds):\n",
        "  # Compute the confusion matrix\n",
        "  cm = confusion_matrix(y_actual, y_preds)\n",
        "\n",
        "  # Plot the confusion matrix\n",
        "  plt.figure(figsize=(10,10))\n",
        "  sns.heatmap(cm, annot=True, fmt=\".0f\", linewidths=.5, square = True, cmap = 'Blues', xticklabels=['healthy', 'unhealthy'], yticklabels=['healthy', 'unhealthy']);\n",
        "  plt.ylabel('Actual label');\n",
        "  plt.xlabel('Predicted label');\n",
        "  plt.title('Confusion Matrix', size = 15);\n",
        "  plt.show()"
      ],
      "metadata": {
        "id": "QkTUzXl0DI9S"
      },
      "execution_count": 36,
      "outputs": []
    },
    {
      "cell_type": "code",
      "source": [
        "def get_metrics(y_actual, y_preds):\n",
        "# Compute the metrics\n",
        "  accuracy = accuracy_score(y_actual, y_preds)\n",
        "  f1 = f1_score(y_actual, y_preds, average='weighted')\n",
        "  precision = precision_score(y_actual, y_preds, average='weighted')\n",
        "  recall = recall_score(y_actual, y_preds, average='weighted')\n",
        "\n",
        "  return {'accuracy': accuracy, 'f1': f1, 'precision': precision, 'recall': recall}"
      ],
      "metadata": {
        "id": "v4OiN3oGIxM0"
      },
      "execution_count": 39,
      "outputs": []
    },
    {
      "cell_type": "code",
      "source": [
        "y_actual, y_preds = get_test_values(model0)\n",
        "print(get_metrics(y_actual, y_preds))\n",
        "plot(y_actual, y_preds)"
      ],
      "metadata": {
        "id": "7zveYJxLH9GW",
        "outputId": "1a9e68c1-8e21-4bcf-b46a-3dbe6b4df66a",
        "colab": {
          "base_uri": "https://localhost:8080/",
          "height": 873
        }
      },
      "execution_count": 40,
      "outputs": [
        {
          "output_type": "stream",
          "name": "stdout",
          "text": [
            "First contains 120 healthy and 120 unhealthy\n",
            "Second contains 120 healthy and 120 unhealthy\n"
          ]
        },
        {
          "output_type": "display_data",
          "data": {
            "text/plain": [
              "<IPython.core.display.HTML object>"
            ],
            "text/html": [
              "\n",
              "<style>\n",
              "    /* Turns off some styling */\n",
              "    progress {\n",
              "        /* gets rid of default border in Firefox and Opera. */\n",
              "        border: none;\n",
              "        /* Needs to be in here for Safari polyfill so background images work as expected. */\n",
              "        background-size: auto;\n",
              "    }\n",
              "    progress:not([value]), progress:not([value])::-webkit-progress-bar {\n",
              "        background: repeating-linear-gradient(45deg, #7e7e7e, #7e7e7e 10px, #5c5c5c 10px, #5c5c5c 20px);\n",
              "    }\n",
              "    .progress-bar-interrupted, .progress-bar-interrupted::-webkit-progress-bar {\n",
              "        background: #F44336;\n",
              "    }\n",
              "</style>\n"
            ]
          },
          "metadata": {}
        },
        {
          "output_type": "display_data",
          "data": {
            "text/plain": [
              "<IPython.core.display.HTML object>"
            ],
            "text/html": []
          },
          "metadata": {}
        },
        {
          "output_type": "stream",
          "name": "stdout",
          "text": [
            "{'accuracy': 0.9375, 'f1': 0.9372549019607843, 'precision': 0.9444444444444444, 'recall': 0.9375}\n"
          ]
        },
        {
          "output_type": "display_data",
          "data": {
            "text/plain": [
              "<Figure size 1000x1000 with 2 Axes>"
            ],
            "image/png": "[encoded data removed]"
          },
          "metadata": {}
        }
      ]
    },
    {
      "cell_type": "code",
      "source": [
        "from fastai.callback.hook import *\n",
        "\n",
        "# Define a hook function\n",
        "def hook_fn(m, i, o): return o.detach().clone()\n",
        "\n",
        "# Register the hook on the last layer\n",
        "hook_output = Hook(learn.model[-1], hook_fn, is_forward=True)\n",
        "\n",
        "# Get some input data\n",
        "x, = first(dls.valid)\n",
        "\n",
        "# Get the outputs of the last layer (logits)\n",
        "with torch.no_grad():\n",
        "    outputs = learn.model.eval()(x)\n",
        "\n",
        "# Get the logits from the hooked layer\n",
        "logits = hook_output.stored"
      ],
      "metadata": {
        "id": "7A7c_LmKRKzH"
      },
      "execution_count": null,
      "outputs": []
    },
    {
      "cell_type": "code",
      "source": [
        "from fastai.callback.hook import *\n",
        "\n",
        "def hook_fn(m, i, o): return o.detach().clone()\n",
        "\n",
        "hook_output = Hook(model0.learn.model[-1], hook_fn, is_forward=True)\n",
        "\n",
        "img = PILImage.create(files0[0][0])\n",
        "\n",
        "# Predict\n",
        "pred,pred_idx,probs = model0.learn.predict(img)\n",
        "\n",
        "# Print the prediction\n",
        "print(f'Prediction: {pred}')\n",
        "print(f'Probability: {probs[pred_idx]}')\n",
        "logits = hook_output.stored"
      ],
      "metadata": {
        "id": "G6hDeupMLCFW",
        "outputId": "c40769f6-892f-49ba-dca5-21d4be69a515",
        "colab": {
          "base_uri": "https://localhost:8080/",
          "height": 52
        }
      },
      "execution_count": 44,
      "outputs": [
        {
          "output_type": "display_data",
          "data": {
            "text/plain": [
              "<IPython.core.display.HTML object>"
            ],
            "text/html": [
              "\n",
              "<style>\n",
              "    /* Turns off some styling */\n",
              "    progress {\n",
              "        /* gets rid of default border in Firefox and Opera. */\n",
              "        border: none;\n",
              "        /* Needs to be in here for Safari polyfill so background images work as expected. */\n",
              "        background-size: auto;\n",
              "    }\n",
              "    progress:not([value]), progress:not([value])::-webkit-progress-bar {\n",
              "        background: repeating-linear-gradient(45deg, #7e7e7e, #7e7e7e 10px, #5c5c5c 10px, #5c5c5c 20px);\n",
              "    }\n",
              "    .progress-bar-interrupted, .progress-bar-interrupted::-webkit-progress-bar {\n",
              "        background: #F44336;\n",
              "    }\n",
              "</style>\n"
            ]
          },
          "metadata": {}
        },
        {
          "output_type": "display_data",
          "data": {
            "text/plain": [
              "<IPython.core.display.HTML object>"
            ],
            "text/html": []
          },
          "metadata": {}
        },
        {
          "output_type": "stream",
          "name": "stdout",
          "text": [
            "Prediction: unhealthy\n",
            "Probability: 0.9960760474205017\n"
          ]
        }
      ]
    },
    {
      "cell_type": "code",
      "source": [
        "print(logits)"
      ],
      "metadata": {
        "id": "1yYNX9GuLvHF",
        "outputId": "649a0fc8-d499-434e-c9bd-71a0639e109f",
        "colab": {
          "base_uri": "https://localhost:8080/"
        }
      },
      "execution_count": 45,
      "outputs": [
        {
          "output_type": "stream",
          "name": "stdout",
          "text": [
            "tensor([[-1.5413,  3.9954]], device='cuda:0')\n"
          ]
        }
      ]
    },
    {
      "cell_type": "code",
      "source": [],
      "metadata": {
        "id": "sYAQswMXMS5j"
      },
      "execution_count": null,
      "outputs": []
    }
  ],
  "metadata": {
    "kernelspec": {
      "display_name": "Python 3",
      "name": "python3"
    },
    "language_info": {
      "codemirror_mode": {
        "name": "ipython",
        "version": 3
      },
      "file_extension": ".py",
      "mimetype": "text/x-python",
      "name": "python",
      "nbconvert_exporter": "python",
      "pygments_lexer": "ipython3",
      "version": "3.9.13"
    },
    "colab": {
      "provenance": [],
      "gpuType": "T4"
    },
    "accelerator": "GPU"
  },
  "nbformat": 4,
  "nbformat_minor": 0
}