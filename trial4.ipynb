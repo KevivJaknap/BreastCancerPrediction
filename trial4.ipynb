{
 "cells": [
  {
   "cell_type": "code",
   "execution_count": null,
   "metadata": {},
   "outputs": [],
   "source": [
    "import os\n",
    "from fastai.vision.all import *\n",
    "from pathlib import Path\n",
    "from PIL import Image\n",
    "import matplotlib.pyplot as plt"
   ]
  },
  {
   "cell_type": "code",
   "execution_count": 3,
   "metadata": {},
   "outputs": [],
   "source": [
    "def get_labels(file_path):\n",
    "    if file_path[0] == 'N':\n",
    "        return 'healthy' \n",
    "    else:\n",
    "        return 'unhealthy'"
   ]
  },
  {
   "cell_type": "code",
   "execution_count": null,
   "metadata": {},
   "outputs": [],
   "source": [
    "def split_files(beta, base_path='./dataset_train/'):\n",
    "    healthy_files = []\n",
    "    unhealthy_files = []\n",
    "    for root, dirs, files in os.walk(base_path):\n",
    "        for file in files:\n",
    "            if file.startswith('N'):\n",
    "                healthy_files.append(file)\n",
    "            else:\n",
    "                unhealthy_files.append(file)\n",
    "    len_healthy = len(healthy_files)\n",
    "    len_unhealthy = len(unhealthy_files)\n",
    "    \n",
    "\n",
    "    #take random sample of length beta*len_healthy\n",
    "    healthy_files_sample = random.sample(healthy_files, int(beta*len_healthy))\n",
    "    unhealthy_files_sample = random.sample(unhealthy_files, int(beta*len_unhealthy))\n",
    "\n",
    "    return ((healthy_files_sample, unhealthy_files), (healthy_files, unhealthy_files_sample))"
   ]
  },
  {
   "cell_type": "code",
   "execution_count": null,
   "metadata": {},
   "outputs": [],
   "source": [
    "base_path = './dataset_train/'\n",
    "class CNN:\n",
    "    def __init__(self, beta, id):\n",
    "        self.beta = beta\n",
    "        self.id = id\n",
    "        self.files = split_files(beta)[id]\n",
    "        self.dls = ImageDataLoaders.from_name_func(\n",
    "            base_path,\n",
    "            self.files,\n",
    "            valid_pct=0.2,\n",
    "            seed=42,\n",
    "            label_func=get_labels,\n",
    "            item_tfms=Resize(224)\n",
    "        )\n",
    "        self.learn = cnn_learner(self.dls, resnet34, metrics=error_rate)\n",
    "    \n",
    "    def train(self, epochs):\n",
    "        self.learn.fine_tune(epochs)\n",
    "\n",
    "    def show_batch(self):\n",
    "        self.dls.show_batch()\n",
    "        \n",
    "    def save(self):\n",
    "        self.learn.export(f'./models/model_{self.id}.pkl')\n",
    "\n",
    "    def load(self):\n",
    "        self.learn = load_learner(f'./models/model_{self.id}.pkl')\n",
    "\n",
    "    def predict(self, file_path):\n",
    "        img = Image.open(file_path)\n",
    "        return self.learn.predict(img)\n",
    "    \n",
    "    def plot(self):\n",
    "        self.learn.recorder.plot_loss()\n",
    "\n",
    "    def show_results(self):\n",
    "        self.learn.show_results()"
   ]
  }
 ],
 "metadata": {
  "kernelspec": {
   "display_name": "Trial_1-vGwhy7Ry",
   "language": "python",
   "name": "python3"
  },
  "language_info": {
   "codemirror_mode": {
    "name": "ipython",
    "version": 3
   },
   "file_extension": ".py",
   "mimetype": "text/x-python",
   "name": "python",
   "nbconvert_exporter": "python",
   "pygments_lexer": "ipython3",
   "version": "3.9.13"
  }
 },
 "nbformat": 4,
 "nbformat_minor": 2
}
